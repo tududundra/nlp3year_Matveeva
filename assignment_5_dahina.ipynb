{
 "cells": [
  {
   "cell_type": "markdown",
   "metadata": {},
   "source": [
    "# Assignment 5\n",
    "\n",
    "Explore embeddings and CNN\n",
    "\n",
    "Using tweeter dataset ( https://www.kaggle.com/utathya/sentiment-analysis-of-imdb-reviews/data) and already existing splitting on train/test sets, develop a model for sentiment analysis.  \n",
    "Your quality metric is crossentropy (`sklearn.metrics.log_loss`, `torch.nn.CrossEntropy`)  \n",
    "\n",
    "Your model should be based on CNN and written in pytorch `torch.nn.Conv1d`.\n",
    "\n",
    "Explore 3 ways, which of them has better perfomance on test set?:\n",
    "1. Using pretrained word embeddings with frozen weights. `torch.nn.Embedding.from_pretrained(embed_matrix, frozen=True)`.\n",
    "You can download any pretrained embeddings you like.\n",
    "2. Train embeddings yourself, initializing from pretrained weights. `torch.nn.Embedding.from_pretrained(embed_matrix, frozen=False)`\n",
    "3. Train embeddings yourself with random initialization `torch.nn.init.uniform_(nn.Embeddings.weights)`\n",
    "\n",
    "Experiment with model arhitecture (as bonus):\n",
    "1. activation functions RELU, ELU, etc `torch.nn.functional.relu, torch.nn.functional.elu`  \n",
    "1. Stack layers\n",
    "1. max or average pooling (`torch.nn.functional.max_pool1d, torch.nn.functional.avg_pool1d`)\n",
    "1. Dropout\n",
    "\n",
    "\n",
    "Other requirements:\n",
    "1. Your training routine should use any learning scheduler (torch.nn.optim.lr_scheduler).  \n",
    "Plot current learning rate against number of epochs, e.g. `tt.optim.Adam.param_groups[0]['lr']`.  \n",
    "\n",
    "1. Your training routine should use early stopping on validation dataset\n",
    "Use hold out validation scheme in your experiments.\n",
    "\n",
    "1. You should use torchtext for parsing \n",
    "\n",
    "**Note**:\n",
    "This assignment has no baseline. Instead, **validation curves** for explored architectures are expected.  \n",
    "Validation curve is plot of model test score against model hyperparameter value.  \n",
    "example (https://scikit-learn.org/stable/auto_examples/model_selection/plot_validation_curve.html) . \n",
    "Though, using `sklearn.model_selection.validation_curve` is not necessary.  \n",
    "\n",
    "\n",
    "\n",
    "\n"
   ]
  },
  {
   "cell_type": "code",
   "execution_count": null,
   "metadata": {},
   "outputs": [],
   "source": []
  },
  {
   "cell_type": "code",
   "execution_count": 40,
   "metadata": {},
   "outputs": [],
   "source": [
    "from sklearn.metrics import log_loss\n",
    "from torch import nn\n",
    "from torch import optim\n",
    "import torch as tt\n",
    "from sklearn.model_selection import validation_curve\n",
    "import pandas as pd\n",
    "from nltk.corpus import stopwords\n",
    "import string\n",
    "import re\n",
    "from nltk.stem.wordnet import WordNetLemmatizer\n",
    "from nltk.tokenize import word_tokenize\n",
    "from sklearn.preprocessing import LabelEncoder\n",
    "from sklearn.feature_extraction.text import TfidfVectorizer\n",
    "import numpy as np\n",
    "from torchtext.data import Field, LabelField, BucketIterator, TabularDataset, Iterator\n",
    "import nltk\n",
    "import torch.nn.functional as F\n",
    "from matplotlib import pyplot as plt\n",
    "% matplotlib inline\n",
    "\n",
    "\n",
    "SEED = 42\n",
    "np.random.seed(SEED)\n",
    "\n",
    "\n",
    "\n",
    "from nltk.stem.wordnet import WordNetLemmatizer\n",
    "morph = WordNetLemmatizer()\n",
    "punct = string.punctuation+'«»—…“”*№–'\n",
    "stops = set(stopwords.words('english'))\n",
    "\n",
    "\n",
    "def normalize(text):\n",
    "    words = [word.strip(punct) for word in text.lower().split()]\n",
    "    words = [morph.lemmatize(word) for word in words if word and word not in stops]\n",
    "    return words #' '.join(words)\n",
    "\n",
    "def tokenizer(text):\n",
    "    words = [word.strip(punct) for word in text.lower().split()]\n",
    "    return words\n"
   ]
  },
  {
   "cell_type": "code",
   "execution_count": 3,
   "metadata": {},
   "outputs": [
    {
     "name": "stdout",
     "output_type": "stream",
     "text": [
      "[nltk_data] Downloading package stopwords to /home/jovyan/nltk_data...\n",
      "[nltk_data]   Package stopwords is already up-to-date!\n"
     ]
    },
    {
     "data": {
      "text/plain": [
       "True"
      ]
     },
     "execution_count": 3,
     "metadata": {},
     "output_type": "execute_result"
    }
   ],
   "source": [
    "nltk.download('stopwords')"
   ]
  },
  {
   "cell_type": "code",
   "execution_count": 4,
   "metadata": {},
   "outputs": [],
   "source": [
    "data = pd.read_csv('imdb_master.csv', encoding='latin-1', index_col = 0)"
   ]
  },
  {
   "cell_type": "code",
   "execution_count": 5,
   "metadata": {},
   "outputs": [
    {
     "data": {
      "text/html": [
       "<div>\n",
       "<style scoped>\n",
       "    .dataframe tbody tr th:only-of-type {\n",
       "        vertical-align: middle;\n",
       "    }\n",
       "\n",
       "    .dataframe tbody tr th {\n",
       "        vertical-align: top;\n",
       "    }\n",
       "\n",
       "    .dataframe thead th {\n",
       "        text-align: right;\n",
       "    }\n",
       "</style>\n",
       "<table border=\"1\" class=\"dataframe\">\n",
       "  <thead>\n",
       "    <tr style=\"text-align: right;\">\n",
       "      <th></th>\n",
       "      <th>type</th>\n",
       "      <th>review</th>\n",
       "      <th>label</th>\n",
       "      <th>file</th>\n",
       "    </tr>\n",
       "  </thead>\n",
       "  <tbody>\n",
       "    <tr>\n",
       "      <th>0</th>\n",
       "      <td>test</td>\n",
       "      <td>Once again Mr. Costner has dragged out a movie...</td>\n",
       "      <td>neg</td>\n",
       "      <td>0_2.txt</td>\n",
       "    </tr>\n",
       "    <tr>\n",
       "      <th>1</th>\n",
       "      <td>test</td>\n",
       "      <td>This is an example of why the majority of acti...</td>\n",
       "      <td>neg</td>\n",
       "      <td>10000_4.txt</td>\n",
       "    </tr>\n",
       "    <tr>\n",
       "      <th>2</th>\n",
       "      <td>test</td>\n",
       "      <td>First of all I hate those moronic rappers, who...</td>\n",
       "      <td>neg</td>\n",
       "      <td>10001_1.txt</td>\n",
       "    </tr>\n",
       "    <tr>\n",
       "      <th>3</th>\n",
       "      <td>test</td>\n",
       "      <td>Not even the Beatles could write songs everyon...</td>\n",
       "      <td>neg</td>\n",
       "      <td>10002_3.txt</td>\n",
       "    </tr>\n",
       "    <tr>\n",
       "      <th>4</th>\n",
       "      <td>test</td>\n",
       "      <td>Brass pictures (movies is not a fitting word f...</td>\n",
       "      <td>neg</td>\n",
       "      <td>10003_3.txt</td>\n",
       "    </tr>\n",
       "  </tbody>\n",
       "</table>\n",
       "</div>"
      ],
      "text/plain": [
       "   type                                             review label         file\n",
       "0  test  Once again Mr. Costner has dragged out a movie...   neg      0_2.txt\n",
       "1  test  This is an example of why the majority of acti...   neg  10000_4.txt\n",
       "2  test  First of all I hate those moronic rappers, who...   neg  10001_1.txt\n",
       "3  test  Not even the Beatles could write songs everyon...   neg  10002_3.txt\n",
       "4  test  Brass pictures (movies is not a fitting word f...   neg  10003_3.txt"
      ]
     },
     "execution_count": 5,
     "metadata": {},
     "output_type": "execute_result"
    }
   ],
   "source": [
    "data.head()"
   ]
  },
  {
   "cell_type": "code",
   "execution_count": 7,
   "metadata": {},
   "outputs": [
    {
     "data": {
      "text/plain": [
       "unsup    50000\n",
       "neg      25000\n",
       "pos      25000\n",
       "Name: label, dtype: int64"
      ]
     },
     "execution_count": 7,
     "metadata": {},
     "output_type": "execute_result"
    }
   ],
   "source": [
    "data.label.value_counts()"
   ]
  },
  {
   "cell_type": "code",
   "execution_count": 11,
   "metadata": {},
   "outputs": [],
   "source": [
    "data.to_csv('imdb_master_2.csv', encoding='utf-8')\n",
    "data[data['type'] == 'test'].to_csv('test.csv', encoding='utf-8')\n",
    "data[data['type'] == 'train'].to_csv('train.csv', encoding='utf-8')"
   ]
  },
  {
   "cell_type": "code",
   "execution_count": 13,
   "metadata": {},
   "outputs": [],
   "source": [
    "classes={\n",
    "    'neg':0,\n",
    "    'unsup':1,\n",
    "    'pos':2\n",
    "}\n",
    "\n",
    "\n",
    "TEXT = Field(include_lengths=True, batch_first=True, \n",
    "             tokenize=tokenizer,\n",
    "             eos_token='<eos>',\n",
    "             lower=True,\n",
    "             stop_words=stops)\n",
    "\n",
    "LABEL = LabelField(dtype=tt.int64, use_vocab=True, preprocessing=lambda x: classes[x])\n",
    "\n",
    "\n",
    "dataset = TabularDataset('imdb_master.csv', format='csv',\n",
    "                         fields=[(None, None), (None, None),('text', TEXT), ('label', LABEL), (None, None)], \n",
    "                         skip_header=True)\n",
    "\n",
    "train = TabularDataset('train.csv', format='csv',\n",
    "                         fields=[(None, None), (None, None),('text', TEXT), ('label', LABEL), (None, None)], \n",
    "                         skip_header=True)\n",
    "\n",
    "test = TabularDataset('test.csv', format='csv',\n",
    "                         fields=[(None, None), (None, None),('text', TEXT), ('label', LABEL), (None, None)], \n",
    "                         skip_header=True)"
   ]
  },
  {
   "cell_type": "code",
   "execution_count": 14,
   "metadata": {},
   "outputs": [
    {
     "name": "stderr",
     "output_type": "stream",
     "text": [
      ".vector_cache/glove.6B.zip: 862MB [02:28, 5.79MB/s]                               \n",
      "100%|█████████▉| 398732/400000 [00:35<00:00, 12879.74it/s]"
     ]
    },
    {
     "data": {
      "text/plain": [
       "44431"
      ]
     },
     "execution_count": 14,
     "metadata": {},
     "output_type": "execute_result"
    },
    {
     "name": "stderr",
     "output_type": "stream",
     "text": [
      "\r",
      "100%|█████████▉| 398732/400000 [00:50<00:00, 12879.74it/s]"
     ]
    }
   ],
   "source": [
    "TEXT.build_vocab(dataset, min_freq=10, vectors=\"glove.6B.100d\")\n",
    "len(TEXT.vocab.itos)"
   ]
  },
  {
   "cell_type": "code",
   "execution_count": 15,
   "metadata": {},
   "outputs": [
    {
     "data": {
      "text/plain": [
       "['<unk>', '<pad>', '<eos>', 'br', 'movie', 'film', 'one', '', 'like', 'good']"
      ]
     },
     "execution_count": 15,
     "metadata": {},
     "output_type": "execute_result"
    }
   ],
   "source": [
    "TEXT.vocab.itos[:10]"
   ]
  },
  {
   "cell_type": "code",
   "execution_count": 16,
   "metadata": {},
   "outputs": [],
   "source": [
    "LABEL.build_vocab(dataset)"
   ]
  },
  {
   "cell_type": "code",
   "execution_count": 17,
   "metadata": {},
   "outputs": [],
   "source": [
    "train, valid = train.split(0.7, stratified=True)"
   ]
  },
  {
   "cell_type": "code",
   "execution_count": 18,
   "metadata": {},
   "outputs": [
    {
     "data": {
      "text/plain": [
       "44431"
      ]
     },
     "execution_count": 18,
     "metadata": {},
     "output_type": "execute_result"
    }
   ],
   "source": [
    "len(TEXT.vocab.vectors)"
   ]
  },
  {
   "cell_type": "code",
   "execution_count": 19,
   "metadata": {},
   "outputs": [],
   "source": [
    "batch_size = 32\n",
    "\n",
    "train_iterator, valid_iterator, test_iterator = BucketIterator.splits(\n",
    "    (train, valid, test),\n",
    "    batch_sizes=(batch_size, batch_size, batch_size),\n",
    "    shuffle=True,\n",
    "    sort_key=lambda x: len(x.text)\n",
    ")"
   ]
  },
  {
   "cell_type": "code",
   "execution_count": 20,
   "metadata": {},
   "outputs": [],
   "source": [
    "class MyModel(nn.Module):\n",
    "    \n",
    "    def __init__(self, vocab_size, embed_size, embed_matrix, hidden_size, kernels, mode, n_epochs=5, fr=False):\n",
    "        super(MyModel, self).__init__()\n",
    "        \n",
    "        if mode == 'random':\n",
    "            self.embedding = nn.Embedding.from_pretrained(nn.init.uniform_(tt.ones((vocab_size,100))), freeze=fr)\n",
    "        else:\n",
    "            self.embedding = nn.Embedding.from_pretrained(embed_matrix, freeze=fr)\n",
    "            \n",
    "        self.n_epochs = n_epochs\n",
    "        self.convs = nn.ModuleList([nn.Conv1d(embed_size, hidden_size, k, padding=5) for k in kernels])\n",
    "        self.dropout = nn.Dropout(0.5)\n",
    "        self.fc = nn.Linear(hidden_size * len(kernels), 3)\n",
    "        \n",
    "    def forward(self, x):\n",
    "        \n",
    "        x = self.embedding(x)\n",
    "        x = x.transpose(1,2)\n",
    "        \n",
    "        concatenated = []\n",
    "        for conv in self.convs:\n",
    "            z = conv(x)\n",
    "            z = F.avg_pool1d(z, kernel_size=z.size(2))\n",
    "            z = z.squeeze(2)\n",
    "            concatenated.append(z)\n",
    "            \n",
    "        x = tt.cat(concatenated, 1)\n",
    "        x = self.fc(x)\n",
    "        return x\n",
    "    \n",
    "    def train_nn(self):\n",
    "        min_loss = np.inf\n",
    "        no_improvement = 0\n",
    "        lr_list = list()\n",
    "        for i in range(self.n_epochs):\n",
    "            train_loss = 0\n",
    "            for batch in train_iterator:\n",
    "                optimizer.zero_grad()\n",
    "                y_pred = self.forward(batch.text[0])\n",
    "                loss = criterion(y_pred, batch.label)\n",
    "                train_loss += loss\n",
    "                loss.backward()\n",
    "                optimizer.step()\n",
    "            train_loss = train_loss / len(train_iterator)\n",
    "            \n",
    "            val_loss_vols = 0\n",
    "            with tt.no_grad():\n",
    "                for batch in valid_iterator:\n",
    "                    val_pred = self.forward(batch.text[0])\n",
    "                    val_loss = criterion(val_pred, batch.label)\n",
    "                    val_loss_vols += val_loss\n",
    "            val_loss = val_loss_vols / len(valid_iterator)\n",
    "            \n",
    "            scheduler.step(val_loss)\n",
    "            lr_list.append(optimizer.param_groups[0]['lr'])\n",
    "            \n",
    "            if val_loss < min_loss:\n",
    "                min_loss = val_loss\n",
    "                no_improvement = 0\n",
    "            elif no_improvement < 10:\n",
    "                no_improvement += 1\n",
    "            else:\n",
    "                break\n",
    "                \n",
    "            print(f'Epoch: {i+1:02}<--->T.Loss: {train_loss:.3f}<--->V.Loss: {val_loss:.3f}')\n",
    "    \n",
    "        return lr_list\n",
    "    \n",
    "    def evaluate(self, test_iterator, criterion):\n",
    "        epoch_loss = 0\n",
    "        with tt.no_grad():\n",
    "                for batch in test_iterator:\n",
    "                    test_pred = self.forward(batch.text[0])\n",
    "                    test_loss = criterion(test_pred, batch.label)\n",
    "                    epoch_loss += test_loss\n",
    "                    \n",
    "        return epoch_loss / len(test_iterator)"
   ]
  },
  {
   "cell_type": "code",
   "execution_count": 25,
   "metadata": {},
   "outputs": [],
   "source": [
    "tt.cuda.empty_cache()\n",
    "\n",
    "model = MyModel(len(TEXT.vocab.itos),\n",
    "                embed_size=100,\n",
    "                embed_matrix=TEXT.vocab.vectors,\n",
    "                hidden_size=128,\n",
    "                kernels=[2,3,4,5],\n",
    "                mode='pretrained',\n",
    "                n_epochs=2\n",
    "               )\n",
    "\n",
    "\n",
    "optimizer = optim.Adam(model.parameters())\n",
    "scheduler = optim.lr_scheduler.ReduceLROnPlateau(optimizer, patience=3, verbose=False, cooldown=5)\n",
    "criterion = nn.CrossEntropyLoss()"
   ]
  },
  {
   "cell_type": "code",
   "execution_count": null,
   "metadata": {},
   "outputs": [],
   "source": []
  },
  {
   "cell_type": "code",
   "execution_count": null,
   "metadata": {
    "scrolled": true
   },
   "outputs": [
    {
     "name": "stdout",
     "output_type": "stream",
     "text": [
      "Epoch: 01<--->Train Loss: 0.875<--->Val. Loss: 0.857\n",
      "Epoch: 02<--->Train Loss: 0.787<--->Val. Loss: 1.065\n",
      "Epoch: 03<--->Train Loss: 0.708<--->Val. Loss: 1.403\n",
      "Epoch: 04<--->Train Loss: 0.641<--->Val. Loss: 1.281\n",
      "Epoch: 05<--->Train Loss: 0.562<--->Val. Loss: 1.425\n",
      "Epoch: 06<--->Train Loss: 0.438<--->Val. Loss: 1.904\n",
      "Epoch: 07<--->Train Loss: 0.410<--->Val. Loss: 2.113\n",
      "Epoch: 08<--->Train Loss: 0.394<--->Val. Loss: 2.229\n",
      "Epoch: 09<--->Train Loss: 0.384<--->Val. Loss: 2.291\n",
      "Epoch: 10<--->Train Loss: 0.370<--->Val. Loss: 2.454\n",
      "Epoch: 11<--->Train Loss: 0.360<--->Val. Loss: 2.486\n",
      " Test.Loss: 6.983\n",
      "Epoch: 01<--->Train Loss: 0.830<--->Val. Loss: 1.116\n",
      "Epoch: 02<--->Train Loss: 0.816<--->Val. Loss: 1.039\n",
      "Epoch: 03<--->Train Loss: 0.813<--->Val. Loss: 1.031\n",
      "Epoch: 04<--->Train Loss: 0.813<--->Val. Loss: 1.047\n",
      "Epoch: 05<--->Train Loss: 0.811<--->Val. Loss: 0.897\n",
      "Epoch: 06<--->Train Loss: 0.810<--->Val. Loss: 0.948\n",
      "Epoch: 07<--->Train Loss: 0.811<--->Val. Loss: 0.993\n",
      "Epoch: 08<--->Train Loss: 0.810<--->Val. Loss: 0.918\n",
      "Epoch: 09<--->Train Loss: 0.809<--->Val. Loss: 1.020\n",
      "Epoch: 10<--->Train Loss: 0.804<--->Val. Loss: 0.985\n",
      "Epoch: 11<--->Train Loss: 0.802<--->Val. Loss: 0.994\n",
      "Epoch: 12<--->Train Loss: 0.803<--->Val. Loss: 0.989\n",
      "Epoch: 13<--->Train Loss: 0.803<--->Val. Loss: 0.990\n",
      "Epoch: 14<--->Train Loss: 0.804<--->Val. Loss: 0.992\n",
      "Epoch: 15<--->Train Loss: 0.802<--->Val. Loss: 0.970\n",
      " Test.Loss: 1.542\n",
      "Epoch: 01<--->Train Loss: 0.795<--->Val. Loss: 1.070\n",
      "Epoch: 02<--->Train Loss: 0.642<--->Val. Loss: 1.250\n",
      "Epoch: 03<--->Train Loss: 0.488<--->Val. Loss: 1.718\n",
      "Epoch: 04<--->Train Loss: 0.377<--->Val. Loss: 2.240\n",
      "Epoch: 05<--->Train Loss: 0.301<--->Val. Loss: 2.799\n",
      "Epoch: 06<--->Train Loss: 0.190<--->Val. Loss: 3.715\n",
      "Epoch: 07<--->Train Loss: 0.171<--->Val. Loss: 4.273\n",
      "Epoch: 08<--->Train Loss: 0.157<--->Val. Loss: 4.754\n",
      "Epoch: 09<--->Train Loss: 0.146<--->Val. Loss: 5.067\n",
      "Epoch: 10<--->Train Loss: 0.137<--->Val. Loss: 5.395\n",
      "Epoch: 11<--->Train Loss: 0.128<--->Val. Loss: 5.673\n",
      " Test.Loss: 20.176\n"
     ]
    }
   ],
   "source": [
    "los = list()\n",
    "l_all = list()\n",
    "\n",
    "for mode in ['random', 'pretrained', 'weights']:\n",
    "    \n",
    "    tt.cuda.empty_cache()\n",
    "    \n",
    "    if mode == 'pretrained':\n",
    "        model = MyModel(len(TEXT.vocab.itos),\n",
    "                    embed_size=100,\n",
    "                    embed_matrix=TEXT.vocab.vectors,\n",
    "                    hidden_size=128,\n",
    "                    kernels=[2,3,4,5],\n",
    "                    mode=mode,\n",
    "                    n_epochs=100,\n",
    "                    fr=True\n",
    "                   )\n",
    "    else:\n",
    "        model = MyModel(len(TEXT.vocab.itos),\n",
    "                    embed_size=100,\n",
    "                    embed_matrix=TEXT.vocab.vectors,\n",
    "                    hidden_size=128,\n",
    "                    kernels=[2,3,4,5],\n",
    "                    mode=mode,\n",
    "                    n_epochs=100\n",
    "                   )\n",
    "    \n",
    "    optimizer = optim.Adam(model.parameters())\n",
    "    scheduler = optim.lr_scheduler.ReduceLROnPlateau(optimizer, patience=3, verbose=False, cooldown=5)\n",
    "    criterion = nn.CrossEntropyLoss()\n",
    "\n",
    "    lr = model.train_nn()\n",
    "    l_all.append(lr)\n",
    "    \n",
    "    test_loss = model.evaluate(test_iterator, criterion)\n",
    "    los.append(test_loss)\n",
    "    \n",
    "    print(f' Test.Loss: {test_loss:.3f}')"
   ]
  },
  {
   "cell_type": "code",
   "execution_count": 32,
   "metadata": {},
   "outputs": [
    {
     "data": {
      "text/plain": [
       "Text(0, 0.5, 'L.Rate')"
      ]
     },
     "execution_count": 32,
     "metadata": {},
     "output_type": "execute_result"
    },
    {
     "data": {
      "image/png": "[encoded data removed]",
      "text/plain": [
       "<Figure size 432x288 with 1 Axes>"
      ]
     },
     "metadata": {},
     "output_type": "display_data"
    }
   ],
   "source": [
    "plt.plot(range(0, len(l_all[0])), l_all[0], label = 'random')\n",
    "\n",
    "plt.legend()\n",
    "\n",
    "plt.xlabel('Epohs')\n",
    "plt.ylabel('L.Rate')\n"
   ]
  },
  {
   "cell_type": "code",
   "execution_count": 34,
   "metadata": {},
   "outputs": [
    {
     "data": {
      "text/plain": [
       "Text(0, 0.5, 'L.Rate')"
      ]
     },
     "execution_count": 34,
     "metadata": {},
     "output_type": "execute_result"
    },
    {
     "data": {
      "image/png": "[encoded data removed]",
      "text/plain": [
       "<Figure size 432x288 with 1 Axes>"
      ]
     },
     "metadata": {},
     "output_type": "display_data"
    }
   ],
   "source": [
    "plt.plot(range(0, len(l_all[1])), l_all[1], label = 'pretrained')\n",
    "\n",
    "plt.legend()\n",
    "\n",
    "plt.xlabel('Epohs')\n",
    "plt.ylabel('L.Rate')"
   ]
  },
  {
   "cell_type": "code",
   "execution_count": 35,
   "metadata": {},
   "outputs": [
    {
     "data": {
      "text/plain": [
       "Text(0, 0.5, 'L.Rate')"
      ]
     },
     "execution_count": 35,
     "metadata": {},
     "output_type": "execute_result"
    },
    {
     "data": {
      "image/png": "[encoded data removed]",
      "text/plain": [
       "<Figure size 432x288 with 1 Axes>"
      ]
     },
     "metadata": {},
     "output_type": "display_data"
    }
   ],
   "source": [
    "plt.plot(range(0, len(l_all[2])), l_all[2], label = 'weights')\n",
    "plt.legend()\n",
    "\n",
    "plt.xlabel('Epohs')\n",
    "plt.ylabel('L.Rate')\n",
    "#plt.title('Learning rate against the number of epoch')"
   ]
  },
  {
   "cell_type": "code",
   "execution_count": 39,
   "metadata": {},
   "outputs": [
    {
     "data": {
      "text/plain": [
       "Text(0, 0.5, 'L.Rate')"
      ]
     },
     "execution_count": 39,
     "metadata": {},
     "output_type": "execute_result"
    },
    {
     "data": {
      "image/png": "[encoded data removed]",
      "text/plain": [
       "<Figure size 432x288 with 1 Axes>"
      ]
     },
     "metadata": {},
     "output_type": "display_data"
    }
   ],
   "source": [
    "plt.plot(range(0, len(l_all[0])), l_all[0], label = 'random', linewidth=10)\n",
    "plt.plot(range(0, len(l_all[2])), l_all[2], label = 'weights', linewidth=5)\n",
    "plt.plot(range(0, len(l_all[1])), l_all[1], label = 'pretrained')\n",
    "\n",
    "plt.legend()\n",
    "\n",
    "plt.xlabel('Epohs')\n",
    "plt.ylabel('L.Rate')"
   ]
  },
  {
   "cell_type": "code",
   "execution_count": 44,
   "metadata": {},
   "outputs": [
    {
     "data": {
      "text/plain": [
       "Text(0, 0.5, 'Test Loss')"
      ]
     },
     "execution_count": 44,
     "metadata": {},
     "output_type": "execute_result"
    },
    {
     "data": {
      "image/png": "[encoded data removed]",
      "text/plain": [
       "<Figure size 432x288 with 1 Axes>"
      ]
     },
     "metadata": {},
     "output_type": "display_data"
    }
   ],
   "source": [
    "plt.bar(['pretrained', 'random', 'weights'], [los[1], los[0], los[2]])\n",
    "plt.ylabel('Test Loss')"
   ]
  },
  {
   "cell_type": "code",
   "execution_count": null,
   "metadata": {},
   "outputs": [],
   "source": []
  },
  {
   "cell_type": "code",
   "execution_count": null,
   "metadata": {},
   "outputs": [],
   "source": []
  }
 ],
 "metadata": {
  "kernelspec": {
   "display_name": "Python 3",
   "language": "python",
   "name": "python3"
  },
  "language_info": {
   "codemirror_mode": {
    "name": "ipython",
    "version": 3
   },
   "file_extension": ".py",
   "mimetype": "text/x-python",
   "name": "python",
   "nbconvert_exporter": "python",
   "pygments_lexer": "ipython3",
   "version": "3.6.2"
  }
 },
 "nbformat": 4,
 "nbformat_minor": 2
}
