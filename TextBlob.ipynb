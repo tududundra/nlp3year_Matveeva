{
 "cells": [
  {
   "cell_type": "code",
   "execution_count": 1,
   "metadata": {
    "collapsed": false
   },
   "outputs": [],
   "source": [
    "import pandas as pd\n",
    "from lxml import html\n",
    "import numpy as np\n",
    "#from matplotlib import pyplot as plt\n",
    "from sklearn.decomposition import TruncatedSVD, NMF, PCA\n",
    "from sklearn.manifold import TSNE\n",
    "from sklearn.feature_extraction.text import TfidfVectorizer, CountVectorizer\n",
    "from sklearn.metrics.pairwise import cosine_distances\n",
    "from sklearn.ensemble import RandomForestClassifier\n",
    "#import gensim\n",
    "import numpy as np\n",
    "from sklearn.cluster import MiniBatchKMeans\n",
    "from sklearn.linear_model import LogisticRegression\n",
    "from sklearn.model_selection import train_test_split\n",
    "from sklearn.metrics import classification_report\n",
    "from collections import Counter,defaultdict\n",
    "from string import punctuation\n",
    "import os\n",
    "from nltk.corpus import stopwords\n",
    "from pymorphy2 import MorphAnalyzer\n",
    "#%matplotlib inline\n",
    "\n",
    "morph = MorphAnalyzer()\n",
    "punct = punctuation+'«»—…“”*№–'\n",
    "#stops = set(stopwords.words('russian'))\n",
    "\n",
    "def normalize(text):\n",
    "    \n",
    "    words = [word.strip(punct) for word in text.lower().split()]\n",
    "    words = [morph.parse(word)[0].normal_form for word in words if word and word not in stops]\n",
    "\n",
    "    return ' '.join(words)\n",
    "\n",
    "def tokenize(text):\n",
    "    \n",
    "    words = [word.strip(punct) for word in text.lower().split() if word and 'http:' not in word]\n",
    "\n",
    "    return ' '.join(words)"
   ]
  },
  {
   "cell_type": "code",
   "execution_count": 2,
   "metadata": {
    "collapsed": true
   },
   "outputs": [],
   "source": [
    "from textblob import TextBlob"
   ]
  },
  {
   "cell_type": "code",
   "execution_count": null,
   "metadata": {
    "collapsed": true
   },
   "outputs": [],
   "source": []
  },
  {
   "cell_type": "code",
   "execution_count": 3,
   "metadata": {
    "collapsed": true
   },
   "outputs": [],
   "source": [
    "train_data = pd.read_csv('train_sentiment_ttk.tsv', sep='\\t')\n",
    "test_data = pd.read_csv('test_sentiment_ttk.tsv', sep='\\t')"
   ]
  },
  {
   "cell_type": "code",
   "execution_count": 4,
   "metadata": {
    "collapsed": false
   },
   "outputs": [
    {
     "data": {
      "text/html": [
       "<div>\n",
       "<table border=\"1\" class=\"dataframe\">\n",
       "  <thead>\n",
       "    <tr style=\"text-align: right;\">\n",
       "      <th></th>\n",
       "      <th>label</th>\n",
       "      <th>text</th>\n",
       "    </tr>\n",
       "  </thead>\n",
       "  <tbody>\n",
       "    <tr>\n",
       "      <th>0</th>\n",
       "      <td>0</td>\n",
       "      <td>@mkomov Максим, Вашем письмо мы получили. Наши...</td>\n",
       "    </tr>\n",
       "    <tr>\n",
       "      <th>1</th>\n",
       "      <td>0</td>\n",
       "      <td>«Мегафон» стал владельцем 50% акций «Евросети»</td>\n",
       "    </tr>\n",
       "    <tr>\n",
       "      <th>2</th>\n",
       "      <td>-1</td>\n",
       "      <td>RT @fuckkiev: “@EvaKobb: МТС Россия прислала ж...</td>\n",
       "    </tr>\n",
       "    <tr>\n",
       "      <th>3</th>\n",
       "      <td>1</td>\n",
       "      <td>ВИДЕО: http://t.co/PSMLAhR4fI Реклама со смехо...</td>\n",
       "    </tr>\n",
       "    <tr>\n",
       "      <th>4</th>\n",
       "      <td>-1</td>\n",
       "      <td>@parfenov1960 потому что МТС достало, а пчел н...</td>\n",
       "    </tr>\n",
       "  </tbody>\n",
       "</table>\n",
       "</div>"
      ],
      "text/plain": [
       "   label                                               text\n",
       "0      0  @mkomov Максим, Вашем письмо мы получили. Наши...\n",
       "1      0     «Мегафон» стал владельцем 50% акций «Евросети»\n",
       "2     -1  RT @fuckkiev: “@EvaKobb: МТС Россия прислала ж...\n",
       "3      1  ВИДЕО: http://t.co/PSMLAhR4fI Реклама со смехо...\n",
       "4     -1  @parfenov1960 потому что МТС достало, а пчел н..."
      ]
     },
     "execution_count": 4,
     "metadata": {},
     "output_type": "execute_result"
    }
   ],
   "source": [
    "train_data.head()"
   ]
  },
  {
   "cell_type": "code",
   "execution_count": 5,
   "metadata": {
    "collapsed": false
   },
   "outputs": [
    {
     "data": {
      "text/html": [
       "<div>\n",
       "<table border=\"1\" class=\"dataframe\">\n",
       "  <thead>\n",
       "    <tr style=\"text-align: right;\">\n",
       "      <th></th>\n",
       "      <th>label</th>\n",
       "      <th>text</th>\n",
       "    </tr>\n",
       "  </thead>\n",
       "  <tbody>\n",
       "    <tr>\n",
       "      <th>0</th>\n",
       "      <td>-1</td>\n",
       "      <td>RT vzglyad: По делу о работе МТС в Узбекистане...</td>\n",
       "    </tr>\n",
       "    <tr>\n",
       "      <th>1</th>\n",
       "      <td>0</td>\n",
       "      <td>RT @kevinuyatukox: http://t.co/ljtrjq91v3 #Кре...</td>\n",
       "    </tr>\n",
       "    <tr>\n",
       "      <th>2</th>\n",
       "      <td>0</td>\n",
       "      <td>#Оформить кредитную карту в банке мтс http://t...</td>\n",
       "    </tr>\n",
       "    <tr>\n",
       "      <th>3</th>\n",
       "      <td>0</td>\n",
       "      <td>#Как перевести деньги с билайна на кредитную к...</td>\n",
       "    </tr>\n",
       "    <tr>\n",
       "      <th>4</th>\n",
       "      <td>0</td>\n",
       "      <td>#Начальник отдела кредитного контроля оао мтс ...</td>\n",
       "    </tr>\n",
       "  </tbody>\n",
       "</table>\n",
       "</div>"
      ],
      "text/plain": [
       "   label                                               text\n",
       "0     -1  RT vzglyad: По делу о работе МТС в Узбекистане...\n",
       "1      0  RT @kevinuyatukox: http://t.co/ljtrjq91v3 #Кре...\n",
       "2      0  #Оформить кредитную карту в банке мтс http://t...\n",
       "3      0  #Как перевести деньги с билайна на кредитную к...\n",
       "4      0  #Начальник отдела кредитного контроля оао мтс ..."
      ]
     },
     "execution_count": 5,
     "metadata": {},
     "output_type": "execute_result"
    }
   ],
   "source": [
    "test_data.head()"
   ]
  },
  {
   "cell_type": "code",
   "execution_count": 6,
   "metadata": {
    "collapsed": true
   },
   "outputs": [],
   "source": [
    "from copy import copy"
   ]
  },
  {
   "cell_type": "code",
   "execution_count": 7,
   "metadata": {
    "collapsed": true
   },
   "outputs": [],
   "source": [
    "data = pd.DataFrame()"
   ]
  },
  {
   "cell_type": "code",
   "execution_count": 8,
   "metadata": {
    "collapsed": true
   },
   "outputs": [],
   "source": [
    "data['text'] = copy(train_data['text'])"
   ]
  },
  {
   "cell_type": "code",
   "execution_count": 9,
   "metadata": {
    "collapsed": false
   },
   "outputs": [
    {
     "data": {
      "text/html": [
       "<div>\n",
       "<table border=\"1\" class=\"dataframe\">\n",
       "  <thead>\n",
       "    <tr style=\"text-align: right;\">\n",
       "      <th></th>\n",
       "      <th>text</th>\n",
       "    </tr>\n",
       "  </thead>\n",
       "  <tbody>\n",
       "    <tr>\n",
       "      <th>0</th>\n",
       "      <td>@mkomov Максим, Вашем письмо мы получили. Наши...</td>\n",
       "    </tr>\n",
       "    <tr>\n",
       "      <th>1</th>\n",
       "      <td>«Мегафон» стал владельцем 50% акций «Евросети»</td>\n",
       "    </tr>\n",
       "    <tr>\n",
       "      <th>2</th>\n",
       "      <td>RT @fuckkiev: “@EvaKobb: МТС Россия прислала ж...</td>\n",
       "    </tr>\n",
       "    <tr>\n",
       "      <th>3</th>\n",
       "      <td>ВИДЕО: http://t.co/PSMLAhR4fI Реклама со смехо...</td>\n",
       "    </tr>\n",
       "    <tr>\n",
       "      <th>4</th>\n",
       "      <td>@parfenov1960 потому что МТС достало, а пчел н...</td>\n",
       "    </tr>\n",
       "  </tbody>\n",
       "</table>\n",
       "</div>"
      ],
      "text/plain": [
       "                                                text\n",
       "0  @mkomov Максим, Вашем письмо мы получили. Наши...\n",
       "1     «Мегафон» стал владельцем 50% акций «Евросети»\n",
       "2  RT @fuckkiev: “@EvaKobb: МТС Россия прислала ж...\n",
       "3  ВИДЕО: http://t.co/PSMLAhR4fI Реклама со смехо...\n",
       "4  @parfenov1960 потому что МТС достало, а пчел н..."
      ]
     },
     "execution_count": 9,
     "metadata": {},
     "output_type": "execute_result"
    }
   ],
   "source": [
    "data.head()"
   ]
  },
  {
   "cell_type": "code",
   "execution_count": 10,
   "metadata": {
    "collapsed": true
   },
   "outputs": [],
   "source": [
    "t = [TextBlob(i) for i in train_data['text']]\n",
    "data['TextBlob'] = t"
   ]
  },
  {
   "cell_type": "code",
   "execution_count": 11,
   "metadata": {
    "collapsed": false
   },
   "outputs": [
    {
     "data": {
      "text/html": [
       "<div>\n",
       "<table border=\"1\" class=\"dataframe\">\n",
       "  <thead>\n",
       "    <tr style=\"text-align: right;\">\n",
       "      <th></th>\n",
       "      <th>text</th>\n",
       "      <th>TextBlob</th>\n",
       "    </tr>\n",
       "  </thead>\n",
       "  <tbody>\n",
       "    <tr>\n",
       "      <th>0</th>\n",
       "      <td>@mkomov Максим, Вашем письмо мы получили. Наши...</td>\n",
       "      <td>(@, m, k, o, m, o, v,  , М, а, к, с, и, м, ,, ...</td>\n",
       "    </tr>\n",
       "    <tr>\n",
       "      <th>1</th>\n",
       "      <td>«Мегафон» стал владельцем 50% акций «Евросети»</td>\n",
       "      <td>(«, М, е, г, а, ф, о, н, »,  , с, т, а, л,  , ...</td>\n",
       "    </tr>\n",
       "    <tr>\n",
       "      <th>2</th>\n",
       "      <td>RT @fuckkiev: “@EvaKobb: МТС Россия прислала ж...</td>\n",
       "      <td>(R, T,  , @, f, u, c, k, k, i, e, v, :,  , “, ...</td>\n",
       "    </tr>\n",
       "    <tr>\n",
       "      <th>3</th>\n",
       "      <td>ВИДЕО: http://t.co/PSMLAhR4fI Реклама со смехо...</td>\n",
       "      <td>(В, И, Д, Е, О, :,  , h, t, t, p, :, /, /, t, ...</td>\n",
       "    </tr>\n",
       "    <tr>\n",
       "      <th>4</th>\n",
       "      <td>@parfenov1960 потому что МТС достало, а пчел н...</td>\n",
       "      <td>(@, p, a, r, f, e, n, o, v, 1, 9, 6, 0,  , п, ...</td>\n",
       "    </tr>\n",
       "  </tbody>\n",
       "</table>\n",
       "</div>"
      ],
      "text/plain": [
       "                                                text  \\\n",
       "0  @mkomov Максим, Вашем письмо мы получили. Наши...   \n",
       "1     «Мегафон» стал владельцем 50% акций «Евросети»   \n",
       "2  RT @fuckkiev: “@EvaKobb: МТС Россия прислала ж...   \n",
       "3  ВИДЕО: http://t.co/PSMLAhR4fI Реклама со смехо...   \n",
       "4  @parfenov1960 потому что МТС достало, а пчел н...   \n",
       "\n",
       "                                            TextBlob  \n",
       "0  (@, m, k, o, m, o, v,  , М, а, к, с, и, м, ,, ...  \n",
       "1  («, М, е, г, а, ф, о, н, »,  , с, т, а, л,  , ...  \n",
       "2  (R, T,  , @, f, u, c, k, k, i, e, v, :,  , “, ...  \n",
       "3  (В, И, Д, Е, О, :,  , h, t, t, p, :, /, /, t, ...  \n",
       "4  (@, p, a, r, f, e, n, o, v, 1, 9, 6, 0,  , п, ...  "
      ]
     },
     "execution_count": 11,
     "metadata": {},
     "output_type": "execute_result"
    }
   ],
   "source": [
    "data.head()"
   ]
  },
  {
   "cell_type": "code",
   "execution_count": 12,
   "metadata": {
    "collapsed": true
   },
   "outputs": [],
   "source": [
    "s = [i.sentiment for i in data['TextBlob']]\n",
    "data['sentiments'] = s"
   ]
  },
  {
   "cell_type": "code",
   "execution_count": 13,
   "metadata": {
    "collapsed": false
   },
   "outputs": [
    {
     "data": {
      "text/html": [
       "<div>\n",
       "<table border=\"1\" class=\"dataframe\">\n",
       "  <thead>\n",
       "    <tr style=\"text-align: right;\">\n",
       "      <th></th>\n",
       "      <th>text</th>\n",
       "      <th>TextBlob</th>\n",
       "      <th>sentiments</th>\n",
       "    </tr>\n",
       "  </thead>\n",
       "  <tbody>\n",
       "    <tr>\n",
       "      <th>0</th>\n",
       "      <td>@mkomov Максим, Вашем письмо мы получили. Наши...</td>\n",
       "      <td>(@, m, k, o, m, o, v,  , М, а, к, с, и, м, ,, ...</td>\n",
       "      <td>(0.0, 0.0)</td>\n",
       "    </tr>\n",
       "    <tr>\n",
       "      <th>1</th>\n",
       "      <td>«Мегафон» стал владельцем 50% акций «Евросети»</td>\n",
       "      <td>(«, М, е, г, а, ф, о, н, »,  , с, т, а, л,  , ...</td>\n",
       "      <td>(0.0, 0.0)</td>\n",
       "    </tr>\n",
       "    <tr>\n",
       "      <th>2</th>\n",
       "      <td>RT @fuckkiev: “@EvaKobb: МТС Россия прислала ж...</td>\n",
       "      <td>(R, T,  , @, f, u, c, k, k, i, e, v, :,  , “, ...</td>\n",
       "      <td>(0.0, 0.0)</td>\n",
       "    </tr>\n",
       "    <tr>\n",
       "      <th>3</th>\n",
       "      <td>ВИДЕО: http://t.co/PSMLAhR4fI Реклама со смехо...</td>\n",
       "      <td>(В, И, Д, Е, О, :,  , h, t, t, p, :, /, /, t, ...</td>\n",
       "      <td>(0.0, 0.0)</td>\n",
       "    </tr>\n",
       "    <tr>\n",
       "      <th>4</th>\n",
       "      <td>@parfenov1960 потому что МТС достало, а пчел н...</td>\n",
       "      <td>(@, p, a, r, f, e, n, o, v, 1, 9, 6, 0,  , п, ...</td>\n",
       "      <td>(0.0, 0.0)</td>\n",
       "    </tr>\n",
       "  </tbody>\n",
       "</table>\n",
       "</div>"
      ],
      "text/plain": [
       "                                                text  \\\n",
       "0  @mkomov Максим, Вашем письмо мы получили. Наши...   \n",
       "1     «Мегафон» стал владельцем 50% акций «Евросети»   \n",
       "2  RT @fuckkiev: “@EvaKobb: МТС Россия прислала ж...   \n",
       "3  ВИДЕО: http://t.co/PSMLAhR4fI Реклама со смехо...   \n",
       "4  @parfenov1960 потому что МТС достало, а пчел н...   \n",
       "\n",
       "                                            TextBlob  sentiments  \n",
       "0  (@, m, k, o, m, o, v,  , М, а, к, с, и, м, ,, ...  (0.0, 0.0)  \n",
       "1  («, М, е, г, а, ф, о, н, »,  , с, т, а, л,  , ...  (0.0, 0.0)  \n",
       "2  (R, T,  , @, f, u, c, k, k, i, e, v, :,  , “, ...  (0.0, 0.0)  \n",
       "3  (В, И, Д, Е, О, :,  , h, t, t, p, :, /, /, t, ...  (0.0, 0.0)  \n",
       "4  (@, p, a, r, f, e, n, o, v, 1, 9, 6, 0,  , п, ...  (0.0, 0.0)  "
      ]
     },
     "execution_count": 13,
     "metadata": {},
     "output_type": "execute_result"
    }
   ],
   "source": [
    "data.head()"
   ]
  },
  {
   "cell_type": "code",
   "execution_count": 14,
   "metadata": {
    "collapsed": false
   },
   "outputs": [
    {
     "name": "stdout",
     "output_type": "stream",
     "text": [
      "#Траффик на Билайне уходит неумолимо :(\n",
      "#Билайн #Москва http://t.co/KGRzUG10xO\n",
      "Sentiment(polarity=-0.75, subjectivity=1.0)\n",
      "----------------------------------------------------\n",
      "RT @_Beeline_kz: Сегодня День Системного Администратора! =) С праздником, друзья! http://t.co/KiDNwq11ht\n",
      "Sentiment(polarity=0.625, subjectivity=1.0)\n",
      "----------------------------------------------------\n",
      "10 июля 2014 года вещание телеканала CTC Love стартовало в цифровой кабельной сети «Билайн».\n",
      "Sentiment(polarity=0.5, subjectivity=0.6)\n",
      "----------------------------------------------------\n",
      "что-то опять не работает автоплатеж в мегафон :-(\n",
      "Sentiment(polarity=-0.75, subjectivity=1.0)\n",
      "----------------------------------------------------\n",
      "@Wild_Ma13 вся семья на билайне...так бы поменял:)\n",
      "Sentiment(polarity=0.5, subjectivity=1.0)\n",
      "----------------------------------------------------\n",
      "RT @MegaFonUral: Уже завтра мы открываем в Тюмени парк спорта и инноваций «МегаZone».Ждем вас с 12 до 18 на ул. Ленина /Орджоникидзе:) http…\n",
      "Sentiment(polarity=0.5, subjectivity=1.0)\n",
      "----------------------------------------------------\n",
      "2804 мтс обновление прошивки http://t.co/QTYtf1gPiI fast\n",
      "Sentiment(polarity=0.2, subjectivity=0.6)\n",
      "----------------------------------------------------\n",
      "модем билайн драйвера win xp для http://t.co/uw3fMs98ux на usb\n",
      "Sentiment(polarity=0.8, subjectivity=0.4)\n",
      "----------------------------------------------------\n",
      "@MegaFonHelp спасибо за помощь, симкарту восстановили удаленно! :)\n",
      "Sentiment(polarity=0.5, subjectivity=1.0)\n",
      "----------------------------------------------------\n",
      "RT @cgiviyra: #Cкачать онлайн игру real boxing на мегафон http://t.co/HlAPxOolON\n",
      "Sentiment(polarity=0.2, subjectivity=0.30000000000000004)\n",
      "----------------------------------------------------\n",
      "в общем надо менять мегафон на кого-нибудь другого :( кругом один найоб\n",
      "Sentiment(polarity=-0.75, subjectivity=1.0)\n",
      "----------------------------------------------------\n",
      "@lenavlasova2004 скрытая реклама МТС :D\n",
      "Sentiment(polarity=1.0, subjectivity=1.0)\n",
      "----------------------------------------------------\n",
      "Блинский блин :))) А я всё это время сидел рядом с интернетом без возможности зайти. Здешний интернет от Билайна ещё более тормозной.\n",
      "Sentiment(polarity=0.5, subjectivity=1.0)\n",
      "----------------------------------------------------\n",
      "тут водится вымиращюий вид редкого зверя под названием GPRS #beeline :) (@ Северное Кладбище) http://t.co/eW56H2AwVe\n",
      "Sentiment(polarity=0.5, subjectivity=1.0)\n",
      "----------------------------------------------------\n",
      "Билайн уже давно лте для айфонов сделал :)\n",
      "Sentiment(polarity=0.5, subjectivity=1.0)\n",
      "----------------------------------------------------\n",
      "Фри вай-фай от билайна, ты классный :3\n",
      "Sentiment(polarity=0.5, subjectivity=1.0)\n",
      "----------------------------------------------------\n",
      "за мтс спасибо:))))\n",
      "Sentiment(polarity=0.5, subjectivity=1.0)\n",
      "----------------------------------------------------\n",
      "Total collapse with@Beeline_RUS -связь в Москве не работает даже при 10 перегрузке всех settings.\n",
      "Sentiment(polarity=0.0, subjectivity=0.75)\n",
      "----------------------------------------------------\n",
      "а билайн? билайн-то верните :(\n",
      "Sentiment(polarity=-0.75, subjectivity=1.0)\n",
      "----------------------------------------------------\n",
      "Иногда тебе нужно срочно написать смску в Англию, но у тебя минус 115р. Спасибо, @Beeline_RUS, что выручил. Люблю своего оператора :}\n",
      "Sentiment(polarity=0.5, subjectivity=1.0)\n",
      "----------------------------------------------------\n",
      "RT @hyaritis87: «Ростелеком» разблокировал сайт приложения Secret Оператор связи &amp;amp;quot;Ростелеком&amp;amp;quot; разблокировал доступ к сайт…\n",
      "Sentiment(polarity=-0.4, subjectivity=0.7)\n",
      "----------------------------------------------------\n",
      "В личном кабинете билайна не найдешь своих денег :(\n",
      "Sentiment(polarity=-0.75, subjectivity=1.0)\n",
      "----------------------------------------------------\n",
      "@ru_mts откуда в тарифе smart долг 145руб??тариф не подразумевает кредитов!\n",
      "Sentiment(polarity=0.26785714285714285, subjectivity=0.6428571428571429)\n",
      "----------------------------------------------------\n",
      "После 2ы вкл/выкл самолётного режима на nexus 7 LTE от МегаФона заработал как надо и сегодня работаю с турбазы :) http://t.co/bOPYokssq3\n",
      "Sentiment(polarity=0.5, subjectivity=1.0)\n",
      "----------------------------------------------------\n",
      "@ru_mts, спасибо, что отозвались на мою проблему:)\n",
      "Sentiment(polarity=0.5, subjectivity=1.0)\n",
      "----------------------------------------------------\n",
      "Мда. Ответ SMM специалиста к моему посту про @megafonru http://t.co/d4DbEXLH5l Лучше вообще ничего не писать, чем так :-(\n",
      "Sentiment(polarity=-0.75, subjectivity=1.0)\n",
      "----------------------------------------------------\n",
      "Работа не волк ;) #Россия #Рязань #Работа @ Контактный Центр МТС http://t.co/P8BGQdKjzw\n",
      "Sentiment(polarity=0.25, subjectivity=1.0)\n",
      "----------------------------------------------------\n",
      "@anjijyja @One_ENCLAVE @AntonChudo @smlsasha по всем скучаю:))) я только на мтс звоню\n",
      "Sentiment(polarity=0.5, subjectivity=1.0)\n",
      "----------------------------------------------------\n",
      "Я хочу, чтобы  у сотрудников МТС был такой же, как моя связь: только вошел и сразу выкинуло :)\n",
      "Sentiment(polarity=0.5, subjectivity=1.0)\n",
      "----------------------------------------------------\n",
      "RT @Beeline_RUS: Удобная услуга для мам и пап - «Координаты». Нужные абоненты под контролем ;) http://t.co/zW2ixnGAdQ http://t.co/8ZblqsaoJU\n",
      "Sentiment(polarity=0.25, subjectivity=1.0)\n",
      "----------------------------------------------------\n",
      "@Tele2KZ я только так и пополняю свой баланс))) 0 тг. комиссия главное :D\n",
      "Sentiment(polarity=1.0, subjectivity=1.0)\n",
      "----------------------------------------------------\n",
      "день Росси завтра, а теле2 поздравил меня сейчас :D\n",
      "Sentiment(polarity=1.0, subjectivity=1.0)\n",
      "----------------------------------------------------\n",
      "@LanazTWx да мтс:)) в салоне ничего не говорят, хочу другую покупать:) раньше 4.50 в день было,а потом сразу 100 почему-то, вот поэтому\n",
      "Sentiment(polarity=0.5, subjectivity=1.0)\n",
      "----------------------------------------------------\n",
      "Абоненты компании &amp;quot;Вымпелком&amp;quot; (торговая марка &amp;quot;Билайн&amp;quot;) в понедельник, 28 июля, столкнулись с перебоями в работе сети:\n",
      "Sentiment(polarity=0.25, subjectivity=1.0)\n",
      "----------------------------------------------------\n",
      "D-Билайн. Пизди по-лягушачьи ;-)\n",
      "Sentiment(polarity=0.25, subjectivity=1.0)\n",
      "----------------------------------------------------\n",
      "Приём фотографий на последний этап #МТСквест проходит сегодня до 14:00 часов! Успевайте :)\n",
      "http://t.co/IKvuNFvzR0 http://t.co/V1OEbo6Dnh\n",
      "Sentiment(polarity=0.5, subjectivity=1.0)\n",
      "----------------------------------------------------\n",
      "Друзья, у меа опять сменя номера с билайна на кселл ;)\n",
      "Sentiment(polarity=0.25, subjectivity=1.0)\n",
      "----------------------------------------------------\n",
      "@volcha57 @rostelecom_fe очень смешная компания, на мой взгляд, зря ты :)))))\n",
      "Sentiment(polarity=0.5, subjectivity=1.0)\n",
      "----------------------------------------------------\n",
      "RT @afisha_r19: Опубликованы фотографии участников последнего этапа #МТСквест! Голосуем :)\n",
      "http://t.co/IKvuNFvzR0 http://t.co/WSvnbleFZ1\n",
      "Sentiment(polarity=0.5, subjectivity=1.0)\n",
      "----------------------------------------------------\n",
      "RT @IDIOTKAKTUS2: @kaktusice мтс 60 кбит/с \n",
      "им норм :D\n",
      "Sentiment(polarity=1.0, subjectivity=1.0)\n",
      "----------------------------------------------------\n",
      "я в первый раз сегодня звонила в МТС :D\n",
      "Sentiment(polarity=1.0, subjectivity=1.0)\n",
      "----------------------------------------------------\n",
      "Лол, у всего города нет домашнего интернета от МТС :)\n",
      "Sentiment(polarity=0.5, subjectivity=1.0)\n",
      "----------------------------------------------------\n",
      "мтс почему-то так деньги на счет ин е зачислил. видимо это судьба, чтоб я больше никому сегодня не хамил =(\n",
      "Sentiment(polarity=-0.75, subjectivity=1.0)\n",
      "----------------------------------------------------\n",
      "Написал в твиттер про ёбаный Мегафон, надеялся, что они отмониторят и придут извиняться. Как бы не так, никто не пришёл :(\n",
      "Sentiment(polarity=-0.75, subjectivity=1.0)\n",
      "----------------------------------------------------\n",
      "#RT день Росси завтра, а теле2 поздравил меня сейчас :D\n",
      "Sentiment(polarity=1.0, subjectivity=1.0)\n",
      "----------------------------------------------------\n",
      "ДЕЛО -  \"Киевстар\", \"МТС Украина\" и life:) смогут купить 3G-лицензии недорого\n",
      "Sentiment(polarity=0.5, subjectivity=1.0)\n",
      "----------------------------------------------------\n",
      "Не ездил месяца 3-4 на метро. А интернет от МегаФона до сих пор все также убого работает :(\n",
      "Sentiment(polarity=-0.75, subjectivity=1.0)\n",
      "----------------------------------------------------\n",
      "@Sakhur Тогда вопрос снят:) Мы тарифы подбираем - обычно они помогают оптимизировать расходы. Здорово, что у Вас уже такой! #билайн\n",
      "Sentiment(polarity=0.625, subjectivity=1.0)\n",
      "----------------------------------------------------\n",
      "Выявил баг в биллинге мегафона на перенесенных номерах (MNP) :)\n",
      "Sentiment(polarity=0.5, subjectivity=1.0)\n",
      "----------------------------------------------------\n",
      "Теперь и я опробую LTE от Билайна :) http://t.co/olpTnWyyZq\n",
      "Sentiment(polarity=0.5, subjectivity=1.0)\n",
      "----------------------------------------------------\n",
      "RT @borisovich_m2: УРАААА!!! \n",
      "МТС ЗАРАБОТАЛ ;)\n",
      "Sentiment(polarity=0.25, subjectivity=1.0)\n",
      "----------------------------------------------------\n",
      "@MegaFonDV_Helр доброе утро, а я не просил ничего:)\n",
      "Sentiment(polarity=0.5, subjectivity=1.0)\n",
      "----------------------------------------------------\n",
      "@Andrey_Cooper а что #МТС запустил в Краснодаре LTE? :O\n",
      "Sentiment(polarity=0.05, subjectivity=1.0)\n",
      "----------------------------------------------------\n",
      "@CreatureMix мобильный интернет от мегафон :D Я минутные видео на youtube по полчаса гружу \n",
      "Sentiment(polarity=1.0, subjectivity=1.0)\n",
      "----------------------------------------------------\n",
      "вот просто подскажешь где теле2 и тебе уже в любви признаются=)\n",
      "Sentiment(polarity=0.5, subjectivity=1.0)\n",
      "----------------------------------------------------\n",
      "МТС подарил мне 370 рублей на счет, неожиданно:)\n",
      "Sentiment(polarity=0.5, subjectivity=1.0)\n",
      "----------------------------------------------------\n",
      "Сижу в Ростелекоме;)\n",
      "Sentiment(polarity=0.25, subjectivity=1.0)\n",
      "----------------------------------------------------\n",
      "Казахтелеком и Алтел заблочили порносайты. Теперь @aidoseg уходит домой почти сразу после трудового дня — у него интернет от Билайна. :3\n",
      "Sentiment(polarity=0.5, subjectivity=1.0)\n",
      "----------------------------------------------------\n",
      "RT @Tele2Russia: @fanat_TW Здравствуйте! Добро пожаловать в ряды наших абонентов :) Очень рады. Если будут какие-то вопросы, смело обращайт…\n",
      "Sentiment(polarity=0.5, subjectivity=1.0)\n",
      "----------------------------------------------------\n",
      "Мы одна большая семья! #Beeline :) http://t.co/vsGGYcRkph\n",
      "Sentiment(polarity=0.5, subjectivity=1.0)\n",
      "----------------------------------------------------\n",
      "У #билайн появилась вторая серия смартфона за 490 рублей. Это хорошо:)\n",
      "Sentiment(polarity=0.5, subjectivity=1.0)\n",
      "----------------------------------------------------\n",
      "«Киевстар», «МТС Украина» и life:) смогут купить 3G-лицензии недорого http://t.co/LqDtwKx7FS\n",
      "Sentiment(polarity=0.5, subjectivity=1.0)\n",
      "----------------------------------------------------\n",
      "Fly v 70 инструкцияподклбчение gprs мегафон http://t.co/qh4MblRNIj #v\n",
      "Sentiment(polarity=0.8, subjectivity=0.9)\n",
      "----------------------------------------------------\n",
      "@MultiMooncat Да, \"закон подлости\" проявляется обычно в самый \"нужный\" момент :) #билайн\n",
      "Sentiment(polarity=0.5, subjectivity=1.0)\n",
      "----------------------------------------------------\n",
      "Милейший дедушка, увидев #сердцегорода, спросил, что это. Мы рассказали. Идея привела его в восторг:) #Калининград #Ростелеком #sputnikru\n",
      "Sentiment(polarity=0.5, subjectivity=1.0)\n",
      "----------------------------------------------------\n",
      "Ростелеком - Хамтелеком :) http://t.co/kfER5UTdq4\n",
      "Sentiment(polarity=0.5, subjectivity=1.0)\n",
      "----------------------------------------------------\n",
      "сдохни, билайн =)\n",
      "Sentiment(polarity=0.5, subjectivity=1.0)\n",
      "----------------------------------------------------\n",
      "@EeDashaaa @ru_mts звоню оператору, там говорят позвонить позже. Жду, когда в тви ответят. Может чего-нибудь наобещают. Некогда в салон :(\n",
      "Sentiment(polarity=-0.75, subjectivity=1.0)\n",
      "----------------------------------------------------\n",
      "Мобильный интернет от #мтс все же есть в #Алушта надо было обновить опцию, но дальше #edge дело не пошло :(\n",
      "Sentiment(polarity=-0.75, subjectivity=1.0)\n",
      "----------------------------------------------------\n",
      "RT @Rostelecom_NW: #Калининград - прекрасный город, как же его не любить;) Вот самое западное #сердцегорода! \n",
      "#Ростелеком #sputnikru http:/…\n",
      "Sentiment(polarity=0.3125, subjectivity=1.0)\n",
      "----------------------------------------------------\n",
      "@nemesida07 МТС ... У папы укр.МТС... Проблемы с дозвоном только ему :(\n",
      "Sentiment(polarity=-0.75, subjectivity=1.0)\n",
      "----------------------------------------------------\n",
      "@ovly_y  @Beeline_RUS @Beeline_Barnaul @Beeline_sib , спасибо :)))) мы тоже так рады, так рады ;))\n",
      "Sentiment(polarity=0.375, subjectivity=1.0)\n",
      "----------------------------------------------------\n",
      "У меня из номера политически правильный вид ;)\n",
      "#Ростелеком #Россия  #Калининград #лето @ ibis… http://t.co/VsPUYhtnkL\n",
      "Sentiment(polarity=0.25, subjectivity=1.0)\n",
      "----------------------------------------------------\n",
      "#мтс разводит на деньги! Списывает деньги за Турбо-кнопку, а через 5 минут ее отключает :((( http://t.co/r0SXnddOxA\n",
      "Sentiment(polarity=-0.75, subjectivity=1.0)\n",
      "----------------------------------------------------\n",
      "«Билайн» ТВ представляет специальную подписку «AMEDIA Premium HD» ОАО &amp;quot;ВымпелКом&amp;quot; (бренд &amp;quot;Билайн&amp;quot;) открывает\n",
      "Sentiment(polarity=0.25, subjectivity=1.0)\n",
      "----------------------------------------------------\n",
      "@jan_beame вот так хитро ты обманул ожидания мегафона =)))\n",
      "Sentiment(polarity=0.5, subjectivity=1.0)\n",
      "----------------------------------------------------\n",
      "Бгг ))) // RT @abakan: хм. а #Билайн в Хакасии 4g без блоготуров запускает? совсем сдурели ;)\n",
      "Sentiment(polarity=0.25, subjectivity=1.0)\n",
      "----------------------------------------------------\n",
      "@Kim__tuk @atodonbass спасибо, но на мтс второй день дозвониться не могу :(\n",
      "Sentiment(polarity=-0.75, subjectivity=1.0)\n",
      "----------------------------------------------------\n",
      "@i_kalina Алексей, добрый день! Отличная скорость! Приятного пользования ;-) #билайн\n",
      "Sentiment(polarity=0.25, subjectivity=1.0)\n",
      "----------------------------------------------------\n",
      "\"Бесплатная настройка оборудования? Хм, а рояль мне настроите? :)\" Foursquare Tip @ Мегафон-Ритейл http://t.co/ljcrJszuwd\n",
      "Sentiment(polarity=0.5, subjectivity=1.0)\n",
      "----------------------------------------------------\n",
      "@MegaFon_CF_Help LTE , а скорость даже не измеряется :)\n",
      "Sentiment(polarity=0.5, subjectivity=1.0)\n",
      "----------------------------------------------------\n",
      "@olesya_lapteva путём посещения офиса на Дерендяева, с 9го августа (надеюсь :) ) я на @megafonru  ! :)\n",
      "Sentiment(polarity=0.5625, subjectivity=1.0)\n",
      "----------------------------------------------------\n",
      "@TechToday_ua я не любитель социалок, разве что \"тви\", но предложение разумное. спасибо, мтс-ики, теперь моя девушка еще больше в ФБ :)\n",
      "Sentiment(polarity=0.5, subjectivity=1.0)\n",
      "----------------------------------------------------\n",
      "@Beeline_RUS было бы лучше сделать приложение, в котором можно отмечать спам и оно автоматом будет отправлять помеченные данные вам :)\n",
      "Sentiment(polarity=0.5, subjectivity=1.0)\n",
      "----------------------------------------------------\n",
      "Впереди День города Чебоксары. Мегафон традиционно займет центровую площадку города. Велком ;-) http://t.co/Ycy5rdovfW\n",
      "Sentiment(polarity=0.25, subjectivity=1.0)\n",
      "----------------------------------------------------\n",
      "Ура ура! Теперь дома на Первомайских у меня есть моб.интернет. Спасибо команде @Alexey_Bendz @_Beeline_kz за подарок :)\n",
      "Sentiment(polarity=0.5, subjectivity=1.0)\n",
      "----------------------------------------------------\n",
      "Билайн жжет :-))) http://t.co/ELIlEGCAdD\n",
      "Sentiment(polarity=0.5, subjectivity=1.0)\n",
      "----------------------------------------------------\n",
      "@ru_mts почему у меня после перехода на Smart+ продолжают снимать по 2р за \"звони бесплатно\"? При попытке отключить,пишет не подключена\n",
      "Sentiment(polarity=0.21428571428571427, subjectivity=0.6428571428571429)\n",
      "----------------------------------------------------\n",
      "@tvrain было бы о чем переживать,уже в полном ходу у нас российский мтс;).\n",
      "Sentiment(polarity=0.25, subjectivity=1.0)\n",
      "----------------------------------------------------\n",
      "@kartofeel че-то у Мегафона, вроде, нету :(\n",
      "Sentiment(polarity=-0.75, subjectivity=1.0)\n",
      "----------------------------------------------------\n",
      "билайн ты надоел :( у меня экзамен завтра, сжалься, а. #RT\n",
      "Sentiment(polarity=-0.75, subjectivity=1.0)\n",
      "----------------------------------------------------\n",
      "Инфа из МТС, на следующей неделе в Смоленске будет 4G :))\n",
      "Sentiment(polarity=0.5, subjectivity=1.0)\n",
      "----------------------------------------------------\n",
      "Megafon 4G новый телефон и новые скорости мобильного интернета:-)  @megafonru happines\n",
      "Sentiment(polarity=0.5, subjectivity=1.0)\n",
      "----------------------------------------------------\n",
      "@Beeline_RUS зря надеетесь:) в моем районе ваши планы развития меня не устроили, извините.\n",
      "Sentiment(polarity=0.5, subjectivity=1.0)\n",
      "----------------------------------------------------\n",
      "RT @APEX_AZS_KZN: Доброго дня #Kazan! Заправляйтесь на наших АЗС и получайте месяц БЕСПЛАТНОГО интернет от #Beeline в подарок! :) http://t.…\n",
      "Sentiment(polarity=0.5, subjectivity=1.0)\n",
      "----------------------------------------------------\n",
      "RT @Atsypkin: @fima_psuchopadt @sergeyboyarskiy @nnikiforov @megafon_sz Коль, ты преувеличиваешь мне влияние на космические процессы:)\n",
      "Sentiment(polarity=0.5, subjectivity=1.0)\n",
      "----------------------------------------------------\n",
      "@fima_psuchopadt @sergeyboyarskiy @nnikiforov @megafon_sz хорошо, что есть твиттер и тебя могут услышать, попробуй тебя не услышь:)\n",
      "Sentiment(polarity=0.5, subjectivity=1.0)\n",
      "----------------------------------------------------\n",
      "мтс мне лимит -400 рублей сделал, теперь могу не только минус 150 уходить, а теперь 400 :)\n",
      "Sentiment(polarity=0.5, subjectivity=1.0)\n",
      "----------------------------------------------------\n",
      "RT @03e4w372n6yxykb: Мне так жалко эту хрюшку- копилку из рекламы МТС,за которой мчится бешенная тетка=(\n",
      "Sentiment(polarity=-0.75, subjectivity=1.0)\n",
      "----------------------------------------------------\n",
      "@poedifrecor1987 Привет от экс-пчелайна :-)\n",
      "Sentiment(polarity=0.5, subjectivity=1.0)\n",
      "----------------------------------------------------\n",
      "@bogdanovalexey @megafonru ага, спасибо:)\n",
      "Sentiment(polarity=0.5, subjectivity=1.0)\n",
      "----------------------------------------------------\n",
      "@Grajdansky @Mgfvolga_Help @megafonru не знаю как назвать, но надо ходить пешком :))\n",
      "Sentiment(polarity=0.5, subjectivity=1.0)\n",
      "----------------------------------------------------\n",
      "МТС Украина все таки отключили в Крыму. Вот и аста лависта:)\n",
      "Sentiment(polarity=0.5, subjectivity=1.0)\n",
      "----------------------------------------------------\n",
      "@argo_78 рекомендуем найти вручную сеть  WIN mobile. ^СН #МТС\n",
      "Sentiment(polarity=0.8, subjectivity=0.4)\n",
      "----------------------------------------------------\n",
      "@krymrealii Это крымская власть использовала инфраструктуру #МТС для своего оператора Win\n",
      "Sentiment(polarity=0.8, subjectivity=0.4)\n",
      "----------------------------------------------------\n",
      "Чёто ржу.....билайн и честь....:) честь и \"большая шайка пидорасов\" сотовые операторы России - понятия несовместимые.\n",
      "Sentiment(polarity=0.5, subjectivity=1.0)\n",
      "----------------------------------------------------\n",
      "@Beeline_RUS хотя бы 400-500 :)\n",
      "Sentiment(polarity=0.5, subjectivity=1.0)\n",
      "----------------------------------------------------\n",
      "С инетом кинули!! Билайн расторг договор :(\n",
      "Sentiment(polarity=-0.75, subjectivity=1.0)\n",
      "----------------------------------------------------\n",
      "Итак, интернет на мтс мне отключили, а связь оставили. Ну и нахрена? :(\n",
      "Sentiment(polarity=-0.75, subjectivity=1.0)\n",
      "----------------------------------------------------\n",
      "RT @fuckysebastopol: Ахуенное у нас доброе утро!  Мтс выключили,  появилась сеть WIN, к ней можно подключиться в роуминге только,  полонски…\n",
      "Sentiment(polarity=0.8, subjectivity=0.4)\n",
      "----------------------------------------------------\n",
      "В крыму отключили МТС. Так что, теперь можете только мне писать :(\n",
      "Sentiment(polarity=-0.75, subjectivity=1.0)\n",
      "----------------------------------------------------\n",
      "МТС умер. Интернет на телефоне умер. Сплошное разочарование :(\n",
      "Sentiment(polarity=-0.75, subjectivity=1.0)\n",
      "----------------------------------------------------\n",
      "@ru_mts В мобильном ТВ больше не будет канала Наш Футбол? Придется отказываться от Ваших услуг :(\n",
      "Sentiment(polarity=-0.75, subjectivity=1.0)\n",
      "----------------------------------------------------\n",
      "@temachkin Ай, простите, палец промахнулся! ;) #билайн\n",
      "Sentiment(polarity=0.25, subjectivity=1.0)\n",
      "----------------------------------------------------\n",
      "взял себе #мтс . Вроде работает:)\n",
      "Sentiment(polarity=0.5, subjectivity=1.0)\n",
      "----------------------------------------------------\n",
      "у моей второй половины сегодня день ре. и он же сам позвонил мне, чтобы я его поздравила. потому что в деревне #мегафон не ловит:(\n",
      "Sentiment(polarity=-0.75, subjectivity=1.0)\n",
      "----------------------------------------------------\n",
      "Неожиданный прикол от МТС Россия. На экране раньше было написано MTS ukr, а ниже было написано MTS rus. Теперь же пишет WIN MTS RUS) #Крым\n",
      "Sentiment(polarity=0.8, subjectivity=0.4)\n",
      "----------------------------------------------------\n",
      "у меня теле2 уже больше 10 лет, так что можешь мне не рассказывать:) в школьном гардеробе он не принимает совсем, а в бассейне плохо.\n",
      "Sentiment(polarity=0.5, subjectivity=1.0)\n",
      "----------------------------------------------------\n",
      "В Севастополе тоже отключили МТС ;) http://t.co/nSKxVv0HZU\n",
      "Sentiment(polarity=0.25, subjectivity=1.0)\n",
      "----------------------------------------------------\n",
      "#новости Эксперты не увидели возможности у «Киевстар» и life:) обеспечить в Крыму абонентов МТС связью http://t.co/qTLMafOPDW #сегодня\n",
      "Sentiment(polarity=0.5, subjectivity=1.0)\n",
      "----------------------------------------------------\n",
      "#новостиДня Эксперты не увидели возможности у «Киевстар» и life:) обеспечить в Крыму абонентов МТС связью http://t.co/wowmro02Pt #сегодня\n",
      "Sentiment(polarity=0.5, subjectivity=1.0)\n",
      "----------------------------------------------------\n",
      "Эксперты не увидели возможности у «Киевстар» и life:) обеспечить в Крыму абонентов МТС связью\n",
      "Sentiment(polarity=0.5, subjectivity=1.0)\n",
      "----------------------------------------------------\n",
      "Много хороших фоток с турнира по #боулинг #билайн в #иваново, который мы вчера выиграли! ;-) http://t.co/GHDwtPh8G7\n",
      "Sentiment(polarity=0.25, subjectivity=1.0)\n",
      "----------------------------------------------------\n",
      "Не могу без любимой работы:))) (@ Офис продаж и обслуживания корпоративных клиентов Билайн in Екатеринбург) https://t.co/67TFk5rUiw\n",
      "Sentiment(polarity=0.5, subjectivity=1.0)\n",
      "----------------------------------------------------\n",
      "Полезная информация для абонентов МТС в Крыму.  /  / Сервисы МТС: / *100# — Баланс лицевого счета / *100*1# — О.. http://t.co/zC6ZZCZDhD\n",
      "Sentiment(polarity=-0.25, subjectivity=1.0)\n",
      "----------------------------------------------------\n",
      "@neko_tin у меня (провайдер - Билайн) работает везде :)\n",
      "Sentiment(polarity=0.5, subjectivity=1.0)\n",
      "----------------------------------------------------\n",
      "«Киевстар» и life:) не потянут крымских абонентов МТС. Фото сайта networkelement.ru  Эксперты сомневаются в технической возможности компенс\n",
      "Sentiment(polarity=0.5, subjectivity=1.0)\n",
      "----------------------------------------------------\n",
      "Заметил, что когда запускаю Билайн Интернет дома, MediaPlayer Classic и Pidgin (это я делаю одновременно практически), то\n",
      "Sentiment(polarity=0.16666666666666666, subjectivity=0.16666666666666666)\n",
      "----------------------------------------------------\n",
      "@LeeMitT ага интернет роуминг от Билайн :-D\n",
      "Sentiment(polarity=1.0, subjectivity=1.0)\n",
      "----------------------------------------------------\n",
      "RT @businesspr: Еще фото с мастер-класса для Билайн :) http://t.co/5cP3CmPzzv\n",
      "Sentiment(polarity=0.5, subjectivity=1.0)\n",
      "----------------------------------------------------\n",
      "Еще одна забава с роутерами — можно назвать точку \"Beeline Free Internet\". И, естественно, закрыть. Пущай донимают суппор\n",
      "Sentiment(polarity=0.4, subjectivity=0.8)\n",
      "----------------------------------------------------\n",
      "И снова Beeline сообщает:  / \"Сегодня ожидается усиление ветра с порывами до 15 - 20 м/с!\"\n",
      "Sentiment(polarity=-0.3125, subjectivity=1.0)\n",
      "----------------------------------------------------\n",
      "@_Beeline_kz @maniac_kz Стоимость смс 500 тенге :)))\n",
      "Sentiment(polarity=0.5, subjectivity=1.0)\n",
      "----------------------------------------------------\n",
      "RT @_Beeline_kz: Друзья, а у нас конкурс! :) Главный приз - iPhone 5c! Ретвит! http://t.co/3OkygALymW\n",
      "Sentiment(polarity=0.78125, subjectivity=1.0)\n",
      "----------------------------------------------------\n",
      "@LoveSingWithYou в смысле да ну? :D просто у меня билайн, а там только в мск есть 4g. ну или при покупке айфона 5S можно подключить.\n",
      "Sentiment(polarity=1.0, subjectivity=1.0)\n",
      "----------------------------------------------------\n",
      "RT @_Beeline_kz: Друзья, напоминаем вам о нашем конкурсе! :) #Beeline16Dec http://t.co/bcLWtdwjAh\n",
      "Sentiment(polarity=0.5, subjectivity=1.0)\n",
      "----------------------------------------------------\n",
      "Love is forever (3G @beeline_rus) Спасибо, Билайн, что улучшили свою сеть! http://t.co/4dm5YVEHBT\n",
      "Sentiment(polarity=0.625, subjectivity=0.6)\n",
      "----------------------------------------------------\n",
      "Да, это печально но тк я забыл пополнить баланс своего воронежского телефона @beeline воронежа отправил его в небытие безвозвратно :(\n",
      "Sentiment(polarity=-0.75, subjectivity=1.0)\n",
      "----------------------------------------------------\n",
      "\"@businka7687: размер имеет значение ) #времяБилайн \n",
      " привет @Katrinuchka ;) http://t.co/S14wMc9FO9\" о, да!\n",
      "Sentiment(polarity=0.3125, subjectivity=1.0)\n",
      "----------------------------------------------------\n",
      "Бесит билайн конкретно!!! Московская симка даже в Ростовской области в разы (!) лучше сеть ловит, чем в Москве!!!\n",
      "Sentiment(polarity=0.0, subjectivity=1.0)\n",
      "----------------------------------------------------\n",
      "\"In progress...\",  индивидуальная смена тарифных планов. *прилюдия* :] @ Билайн. Центральный офис http://t.co/q3hzSetiYI\n",
      "Sentiment(polarity=0.5, subjectivity=1.0)\n",
      "----------------------------------------------------\n",
      "@Beeline_RUS ... Smart Box по цене 1 руб., как это доступно при новом подключении?\n",
      "Sentiment(polarity=0.21428571428571427, subjectivity=0.6428571428571429)\n",
      "----------------------------------------------------\n",
      "Билайн приветствует вас в Украине. А вы все продолжаете лингвистические споры :-)\n",
      "Sentiment(polarity=0.5, subjectivity=1.0)\n",
      "----------------------------------------------------\n",
      "RT @beeline_uz: Ретвитни на удачу символ наступающего года! ;) http://t.co/5953q3Re8A\n",
      "Sentiment(polarity=0.25, subjectivity=1.0)\n",
      "----------------------------------------------------\n",
      "@germanec @Beeline_RUS моего тоже не видно ;)\n",
      "Sentiment(polarity=0.25, subjectivity=1.0)\n",
      "----------------------------------------------------\n",
      "RT @_Beeline_kz: Друзья, ретвит, если в детстве хоть раз писали письмо Дед Морозу! :) http://t.co/CkNxMHU7qW\n",
      "Sentiment(polarity=0.5, subjectivity=1.0)\n",
      "----------------------------------------------------\n",
      "Продавец-консультант услуг Билайн / Action / от 30 000 руб. / Королев / График работы: полный рабочий день / О.. http://t.co/JT2sGZZtMX\n",
      "Sentiment(polarity=0.1, subjectivity=0.1)\n",
      "----------------------------------------------------\n",
      "RT @_Beeline_kz: Друзья, к концу года принято подводить итоги. Делимся с вами фактами - что происходило в Beeline в 2013-м. :) http://t.co/…\n",
      "Sentiment(polarity=0.5, subjectivity=1.0)\n",
      "----------------------------------------------------\n",
      "@_Beeline_kz Вы бы еще писали, имя абонента, или просто, какой человек само много звонил (сколько раз за год) ;)\n",
      "Sentiment(polarity=0.25, subjectivity=1.0)\n",
      "----------------------------------------------------\n",
      "@_Beeline_kz  ДВ, нужна ваша помощь, пож-ста отзовитесь :)) детали отправлены личн.сообщением. Спасибо.\n",
      "Sentiment(polarity=0.5, subjectivity=1.0)\n",
      "----------------------------------------------------\n",
      "@Beeline_RUS управлять услугами без личного кабинета? :) Ножками в офис? :)\n",
      "Sentiment(polarity=0.5, subjectivity=1.0)\n",
      "----------------------------------------------------\n",
      "@Marina_Golyb_ @Chaikaaaaaaaa  что ты ржешь,одного понять не могу??! Вон на билайне ёлка есть! Так что... в добрый,кис;)\n",
      "Sentiment(polarity=0.25, subjectivity=1.0)\n",
      "----------------------------------------------------\n",
      "RT @beeline_uz: @zukhra_t В новости по ссылке указано, что это акция для абонентов тарифов предоплатной системы расчетов, Зухра :)\n",
      "Sentiment(polarity=0.5, subjectivity=1.0)\n",
      "----------------------------------------------------\n",
      "Билайн поздравил с нг. Люблю его :-):-):-)\n",
      "Sentiment(polarity=0.5, subjectivity=1.0)\n",
      "----------------------------------------------------\n",
      "Похоже, зря я посылал лучи ненависти в сторону @Beeline_RUS \n",
      "Видимо был пьян  и сам проглядел. :)\n",
      "Sentiment(polarity=0.5, subjectivity=1.0)\n",
      "----------------------------------------------------\n",
      "Зачем @Beeline_RUS сделали такую классную рекламу #iPhone5S ? Я теперь хочу его ещё больше!:(\n",
      "Sentiment(polarity=-0.75, subjectivity=1.0)\n",
      "----------------------------------------------------\n",
      "“@SPotresov: Четыре минуты полуночного твиттер-героизма ;) http://t.co/OB0rE8EjmN” @Beeline_RUS\n",
      "Sentiment(polarity=0.25, subjectivity=1.0)\n",
      "----------------------------------------------------\n",
      "билайн охуел: за бесплатные смс берет 3 рубля/шт. все деньги потратила :(\n",
      "Sentiment(polarity=-0.75, subjectivity=1.0)\n",
      "----------------------------------------------------\n",
      "@Beeline_RUS #Королёв пр-т Королева д. 14. По состоянию уже на 05.01. - появятся \"возможно\" - #hope #билайн #fail http://t.co/HacSdqX1lW\n",
      "Sentiment(polarity=-0.5, subjectivity=0.29999999999999993)\n",
      "----------------------------------------------------\n",
      "@DmitryMarlinsky эээ. Как бы тебе сказать. Ролик билайна последний, как пример. Какой он и что рекламирует - не помню. Тонусы какие-то :)\n",
      "Sentiment(polarity=0.5, subjectivity=1.0)\n",
      "----------------------------------------------------\n",
      "RT @beeline_uz: Веселой вам пятницы! :) http://t.co/3hdIT568qp\n",
      "Sentiment(polarity=0.5, subjectivity=1.0)\n",
      "----------------------------------------------------\n",
      "Тем временем у Билайн сменился слоган. Слоган стал унылым, скучным, снобским :(\n",
      "Sentiment(polarity=-0.75, subjectivity=1.0)\n",
      "----------------------------------------------------\n",
      "RT @_Beeline_kz: Друзья, для сотового телефона энергия нужна не только для подзарядки, но и для базовых станций, серверов, и т.д. :) http:/…\n",
      "Sentiment(polarity=0.5, subjectivity=1.0)\n",
      "----------------------------------------------------\n",
      "Мобильный инет у Билайна прекрасный, особенно если им не пользоваться ;)\n",
      "Sentiment(polarity=0.25, subjectivity=1.0)\n",
      "----------------------------------------------------\n",
      "Пока вы ждали стабильности мобильного интернета от Билайна,ваши друзья женились и обзавелись детьми:)))\n",
      "Sentiment(polarity=0.5, subjectivity=1.0)\n",
      "----------------------------------------------------\n",
      "@Teamo_313 лепрекон из Билайна! :D\n",
      "Sentiment(polarity=1.0, subjectivity=1.0)\n",
      "----------------------------------------------------\n",
      ". . . Неа:) не проще! Да и за муж рановато:)                              кстати,не знаешь как можно на билайне настроит\n",
      "Sentiment(polarity=0.5625, subjectivity=1.0)\n",
      "----------------------------------------------------\n",
      "RT @wucesufunyw: . . . Неа:) не проще! Да и за муж рановато:)                              кстати,не знаешь как можно на билайне настроит\n",
      "Sentiment(polarity=0.5625, subjectivity=1.0)\n",
      "----------------------------------------------------\n",
      "Новая акция для абонентов БиЛайн: Набери со своего мобильного [02k, громко скажи: [В Кремле бомбаk, представься, и полосатые вещи станут тво\n",
      "Sentiment(polarity=-0.75, subjectivity=1.0)\n",
      "----------------------------------------------------\n",
      "RT @_Beeline_kz: Друзья, наша традиционная пятничная игра! :) Ретвит, если смогли разблокировать телефон! Пишите порядок цифр в меншн! http…\n",
      "Sentiment(polarity=0.78125, subjectivity=1.0)\n",
      "----------------------------------------------------\n",
      "Казалось бы, причем тут @BeelineSamara @Beeline_RUS :) http://t.co/hZ4YOGVnSP\n",
      "Sentiment(polarity=0.5, subjectivity=1.0)\n",
      "----------------------------------------------------\n",
      "@Bota_Zhumanova Утемуратов наверняка на Билайне ;)\n",
      "Sentiment(polarity=0.25, subjectivity=1.0)\n",
      "----------------------------------------------------\n",
      "@Klapatenko_I Выберите сервер МТС в списке :-)\n",
      "Sentiment(polarity=0.5, subjectivity=1.0)\n",
      "----------------------------------------------------\n",
      "Ахтунг, МТС кидает. lleo гарантирует это :)\n",
      "Sentiment(polarity=0.5, subjectivity=1.0)\n",
      "----------------------------------------------------\n",
      "http://t.co/uHLk3N7J5a как отключить услуги на мтс бит smart\n",
      " http://t.co/uHLk3N7J5a\n",
      "Sentiment(polarity=0.21428571428571427, subjectivity=0.6428571428571429)\n",
      "----------------------------------------------------\n",
      "Мтс пожелал мне хорошего дня, просто так, без рекламы. Круто=)\n",
      "#люблюмтс\n",
      "Sentiment(polarity=0.5, subjectivity=1.0)\n",
      "----------------------------------------------------\n",
      "МТС пожелал хорошего дня. просто так. пришла смска. странно, но приятно:)\n",
      "Sentiment(polarity=0.5, subjectivity=1.0)\n",
      "----------------------------------------------------\n",
      "МТС сняла абонентку за ноябрь. Т.е. 700 рублей неделю назад были \"за октябрь\", типа. Сволочи :(\n",
      "Sentiment(polarity=-0.75, subjectivity=1.0)\n",
      "----------------------------------------------------\n",
      "Неожиданно. Теперь день не может быть плохим, спасибо, МТС ;D http://t.co/xC2RnUCUup\n",
      "Sentiment(polarity=0.25, subjectivity=1.0)\n",
      "----------------------------------------------------\n",
      "@3BEPbE поменяй симку на настоящую нано сим и мтс станет работать лучше ;)\n",
      "Sentiment(polarity=0.25, subjectivity=1.0)\n",
      "----------------------------------------------------\n",
      "крутой мтс забрал 2 рубля за час разговора\n",
      "почему-то я очень рада этой мелочи:)\n",
      "Sentiment(polarity=0.5, subjectivity=1.0)\n",
      "----------------------------------------------------\n",
      "http://t.co/bBDX2CTqRV как отключить интернет от мтс smart\n",
      " http://t.co/bBDX2CTqRV\n",
      "Sentiment(polarity=0.21428571428571427, subjectivity=0.6428571428571429)\n",
      "----------------------------------------------------\n",
      "@ru_mts когда вы уже допилите \"турбокнопку\". Такой социобляди, как я, невозможно жить без мобильного интернета:(\n",
      "Sentiment(polarity=-0.75, subjectivity=1.0)\n",
      "----------------------------------------------------\n",
      "Вот нет бы обнадежить чемнить :))) тьфу уже на этот мтс :))) деваться некуда от них:)\n",
      "Sentiment(polarity=0.5, subjectivity=1.0)\n",
      "----------------------------------------------------\n",
      "RT @Aleksandr_116: #МТС на шаг впереди :D http://t.co/jIKpOHmw1M\n",
      "Sentiment(polarity=1.0, subjectivity=1.0)\n",
      "----------------------------------------------------\n",
      "@Vladimirus_vvs мы и есть поддержка :) ^СН #МТС\n",
      "Sentiment(polarity=0.5, subjectivity=1.0)\n",
      "----------------------------------------------------\n",
      "“@iamstinger: У МТС появились фемтосоты для частных лиц\n",
      "http://t.co/2AWll1liY0”а улучшить качество связи,не?:)\n",
      "Sentiment(polarity=0.5, subjectivity=1.0)\n",
      "----------------------------------------------------\n",
      "@edemidov44, услуга \"МиниБИТ\" имеет наименьший приоритет перед услугой \"Ежемесячная плата Smart\". ^ДП #МТС\n",
      "Sentiment(polarity=0.21428571428571427, subjectivity=0.6428571428571429)\n",
      "----------------------------------------------------\n",
      "aaaaaaaaaaa @mts_ukraine \"смена тарифного плана бесплатна. Для смены тарифного плана недостаточно средств на счету.\" Это как???? #mts #fail\n",
      "Sentiment(polarity=-0.5, subjectivity=0.29999999999999993)\n",
      "----------------------------------------------------\n",
      "@DmitriyLyalyuev @mts_ukraine #mts #fail это очень по-украински. Нам не понять, к счастью\n",
      "Sentiment(polarity=-0.5, subjectivity=0.29999999999999993)\n",
      "----------------------------------------------------\n",
      "По ТВ крутят просто хашкаливающее количество рекламы от Nokia. Сама по себе, совместно с МТС и Евросетью, с Ашой и Люмией. Прям ух :)\n",
      "Sentiment(polarity=0.5, subjectivity=1.0)\n",
      "----------------------------------------------------\n",
      "#как отключить интернет от мтс smart http://t.co/foewJ8bbcn\n",
      "Sentiment(polarity=0.21428571428571427, subjectivity=0.6428571428571429)\n",
      "----------------------------------------------------\n",
      "@potemkink Эпл еще не открыла доступ к ЛТЕ пользователям МТС так что купи Самсунг ;)\n",
      "Sentiment(polarity=0.25, subjectivity=1.0)\n",
      "----------------------------------------------------\n",
      "RT @gtariot: Welcome to North Yankton! Скриншоты и описание, как попасть в снежную зиму в #GTAV — http://t.co/kQ17mTS0iT http://t.co/rGjHJe…\n",
      "Sentiment(polarity=1.0, subjectivity=0.9)\n",
      "----------------------------------------------------\n",
      "RT @irresistibllee: у меня ни копейки не сняли за то, что я звонила ночью @SonjaKononova  \n",
      "в такие моменты я люблю МТС :D\n",
      "Sentiment(polarity=1.0, subjectivity=1.0)\n",
      "----------------------------------------------------\n",
      "А где комментарий МТС?!:)  “@VedomostiTech: МТС не отпускает сенаторов http://t.co/D0TVUj50OK”\n",
      "Sentiment(polarity=0.5, subjectivity=1.0)\n",
      "----------------------------------------------------\n",
      "RT @san4ozzy: Слезливая хистория про Билайн для @eldarmurtazin :) http://t.co/6WAW23EzgR\n",
      "Sentiment(polarity=0.5, subjectivity=1.0)\n",
      "----------------------------------------------------\n",
      "Подарили модем Пчелайн с безлимитом на 2_с_небольшим месяца. Да, Дед Мороз существует! :)\n",
      "Sentiment(polarity=0.5, subjectivity=1.0)\n",
      "----------------------------------------------------\n",
      "@Beeline_RUS Мде, боюсь представить цену за трафик от FullHD1080 :))) И почему страница сайта обозначена лого Safari апловского? =)\n",
      "Sentiment(polarity=0.5, subjectivity=1.0)\n",
      "----------------------------------------------------\n",
      "@Beeline_RUS Все само собой пока нормализовалось. Но, уверен, проблемы были не на моей стороне :)\n",
      "Sentiment(polarity=0.5, subjectivity=1.0)\n",
      "----------------------------------------------------\n",
      "Лирическое отступление. Билайн, есть чо по LTE? =D\n",
      "Sentiment(polarity=1.0, subjectivity=1.0)\n",
      "----------------------------------------------------\n",
      "@Beeline_RUS ребята выручайте. Сделайте невозможное. Мне нужно точно знать, где могу заменить на #usim в Волгограде. Уезжаю завтра :(\n",
      "Sentiment(polarity=-0.75, subjectivity=1.0)\n",
      "----------------------------------------------------\n",
      "Открытие. Можно получить бесплатный веб трафик подключившись к точке beeline wifi, просмотрев ролик. Раньше я искал только beeline wifi FREE\n",
      "Sentiment(polarity=0.4, subjectivity=0.8)\n",
      "----------------------------------------------------\n",
      "@BeingPattieBoyd @nikitaradchenko :( так какой выход? Билайн?\n",
      "Sentiment(polarity=-0.75, subjectivity=1.0)\n",
      "----------------------------------------------------\n",
      "Настя, Покорительница чудиков в Beeline :-P\n",
      "Sentiment(polarity=0.75, subjectivity=1.0)\n",
      "----------------------------------------------------\n",
      "У билайна отвалились смски :(\n",
      "Sentiment(polarity=-0.75, subjectivity=1.0)\n",
      "----------------------------------------------------\n",
      "RT @rasahitini: БиЛайн прибыл. Пользуюсь. :3\n",
      "Sentiment(polarity=0.5, subjectivity=1.0)\n",
      "----------------------------------------------------\n",
      "@Beeline_RUS посмотрите картинку и поймете :) Но перехода того номера не будет. В поддержке сказали это ошибка, так что советую исправить :)\n",
      "Sentiment(polarity=0.5, subjectivity=1.0)\n",
      "----------------------------------------------------\n",
      "#Билайн пожелал счастья, люблю его ♥\n",
      "Sentiment(polarity=1.0, subjectivity=1.0)\n",
      "----------------------------------------------------\n",
      "@evgeniy_yermak По-моему это заразно;) Сталкиваюсь с этим постоянно. Только вчера ругалась с авиаперевозчиком s7, Билайн и т.д.\n",
      "Sentiment(polarity=0.25, subjectivity=1.0)\n",
      "----------------------------------------------------\n",
      "@Beeline_RUS в личный кабинет, кстати, пытаюсь войти не просто так, а потому что интернет не работает, а баланс меньше, чем вносил :)\n",
      "Sentiment(polarity=0.5, subjectivity=1.0)\n",
      "----------------------------------------------------\n",
      "RT @beeline_uz: С наступающим!.. :) http://t.co/HaX3Z7EEyv\n",
      "Sentiment(polarity=0.5, subjectivity=1.0)\n",
      "----------------------------------------------------\n",
      "@Liese165 ну бро, я писала это, когда думала, что билайн так и не отправил сообщение :D\n",
      "Sentiment(polarity=1.0, subjectivity=1.0)\n",
      "----------------------------------------------------\n",
      "Билайн начинает нас удивлять :D http://t.co/CvbRmEvY3J\n",
      "Sentiment(polarity=1.0, subjectivity=1.0)\n",
      "----------------------------------------------------\n",
      "RT @_Beeline_kz: Друзья, хорошо работает тот, кто хорошо отдыхает! :) http://t.co/EwfrhKklaO\n",
      "Sentiment(polarity=0.5, subjectivity=1.0)\n",
      "----------------------------------------------------\n",
      "RT @_Beeline_kz: Друзья, желаем вам удачного начала недели! :) http://t.co/g1PAAa9u7J\n",
      "Sentiment(polarity=0.5, subjectivity=1.0)\n",
      "----------------------------------------------------\n",
      "@Beeline_RUS нно:( а что, ожидается какое-то изменение?\n",
      "Sentiment(polarity=-0.75, subjectivity=1.0)\n",
      "----------------------------------------------------\n",
      "@Beeline_RUS спасибо :)\n",
      "Sentiment(polarity=0.5, subjectivity=1.0)\n",
      "----------------------------------------------------\n",
      "Полазила по сайту билайна и поняла, что у меня подключен самый выгодный интернет:)\n",
      "Sentiment(polarity=0.5, subjectivity=1.0)\n",
      "----------------------------------------------------\n",
      "А Хабр удалил этот текст - http://t.co/YA0RKaiL08 - когда он набрал за 20 мин. +29, 4200 просмотров и почти попал в \"Лучшее\". :-/ #Билайн\n",
      "Sentiment(polarity=-0.25, subjectivity=1.0)\n",
      "----------------------------------------------------\n",
      "@yakudzablr МТС vs life:) — я бы брал симку и шел по обычным местам обитания с живым тестом. Пользуюсь обоими, от лайфа впечатления лучше.\n",
      "Sentiment(polarity=0.5, subjectivity=1.0)\n",
      "----------------------------------------------------\n",
      "Купил МТС коннект, в скором времени буду пробовать:-) к стати, продаю алкатель х080s\n",
      "Sentiment(polarity=0.5, subjectivity=1.0)\n",
      "----------------------------------------------------\n",
      "@ru_mts @renatgukov это правда????:)\n",
      "Sentiment(polarity=0.5, subjectivity=1.0)\n",
      "----------------------------------------------------\n",
      "@ivanshkurin аа прочитала;) да, у мтс большая проблема.. Работают только смс\n",
      "Sentiment(polarity=0.25, subjectivity=1.0)\n",
      "----------------------------------------------------\n",
      "@Mk__Phoenix мне примерно каждые 10 минут спам от мтс приходит,я уже внимания не обращаю :D\n",
      "Sentiment(polarity=1.0, subjectivity=1.0)\n",
      "----------------------------------------------------\n",
      "Аудиослайдшоу. Не наелся – не налижешься: [player]  МТС для иностранцев подешевел, а дороги для белорусов подо... http://t.co/M39e99UtmY\n",
      "Sentiment(polarity=-0.75, subjectivity=1.0)\n",
      "----------------------------------------------------\n",
      "Переключился на тариф \"Супер МТС\", почему не отключается Пакет SMS Smart, снимается \"АП_Супер МТС\" каждые сутки...Номер: 89196875818 @ru_mts\n",
      "Sentiment(polarity=0.21428571428571427, subjectivity=0.6428571428571429)\n",
      "----------------------------------------------------\n",
      "Наворовали денег, теперь отмечают;) МТС гуляет стадом в 5000 человек. (@ МосЭкспо (Павильон №75) w/ 2 others) [pic]: http://t.co/UCWGsRhV04\n",
      "Sentiment(polarity=0.25, subjectivity=1.0)\n",
      "----------------------------------------------------\n",
      "alien: 4G LTE пришёл в Ростов, но «по-партизански» | #мтс http://t.co/cVKQmOGH7M\n",
      "Sentiment(polarity=-0.25, subjectivity=0.75)\n",
      "----------------------------------------------------\n",
      "10 отменных твитов из-за блядской #МТСни повисли в черновиках :(\n",
      "Sentiment(polarity=-0.75, subjectivity=1.0)\n",
      "----------------------------------------------------\n",
      "МТС уже все починили :)\n",
      "Sentiment(polarity=0.5, subjectivity=1.0)\n",
      "----------------------------------------------------\n",
      "RT @hedozizicet: ппц: сижу сдаю аварийную заявку в Билайн и слышу в бэкграунде операторы обсуждают копрофилию :)\n",
      "Sentiment(polarity=0.5, subjectivity=1.0)\n",
      "----------------------------------------------------\n",
      "ппц: сижу сдаю аварийную заявку в Билайн и слышу в бэкграунде операторы обсуждают копрофилию :)\n",
      "Sentiment(polarity=0.5, subjectivity=1.0)\n",
      "----------------------------------------------------\n",
      "БиЛайн прибыл. Пользуюсь. :3\n",
      "Sentiment(polarity=0.5, subjectivity=1.0)\n",
      "----------------------------------------------------\n",
      "@Konstantin3107 @Beeline_RUS и даже через год не поможет! :))\n",
      "Sentiment(polarity=0.5, subjectivity=1.0)\n",
      "----------------------------------------------------\n",
      "RT @LiteMobile: Наши источники подтвержают, что со вчерашнего дня на iPhone 5s a1533 из США работает LTE от Билайна :) Как и не РСТ а1457 и…\n",
      "Sentiment(polarity=0.5, subjectivity=1.0)\n",
      "----------------------------------------------------\n",
      "RT @xivogiqewul: В виду стабильного 128кБитного безлимитного интернета от Пчелайна, наконец решил попробовать на вкус ТанкиОнлайн. :) На Т\n",
      "Sentiment(polarity=0.5, subjectivity=1.0)\n",
      "----------------------------------------------------\n",
      "всегда приятно видеть новогоднюю рекламу билайн с Женей Любич=) #ЖеняЛюбич #НовыйГод\n",
      "Sentiment(polarity=0.5, subjectivity=1.0)\n",
      "----------------------------------------------------\n",
      "@Beeline_RUS хотелось купить именно в офисе, а не с доставкой на дом. Почему на сайте нету номеров телефона ваших офисов чтобы позвонить? =)\n",
      "Sentiment(polarity=0.5, subjectivity=1.0)\n",
      "----------------------------------------------------\n",
      "После 10й неудачной попытки подключения у Билайна просто закончились отмазки 8) http://t.co/t86OT3FjXg\n",
      "Sentiment(polarity=0.5, subjectivity=1.0)\n",
      "----------------------------------------------------\n",
      "RT @_Beeline_kz: Друзья, глядя на снег за окном, давайте помечтаем о тепле. :D  Пишите в меншн, какое приложение вы возьмете с собой! http:…\n",
      "Sentiment(polarity=1.0, subjectivity=1.0)\n",
      "----------------------------------------------------\n",
      "RT @_Beeline_kz: А знаете ли вы, что клиенты \"Интернет Дома\" от Beeline имеют отличный шанс выиграть путевку на двоих в Таиланд?:) https://…\n",
      "Sentiment(polarity=0.5, subjectivity=1.0)\n",
      "----------------------------------------------------\n",
      "@Beeline_RUS  надарили календариков :) http://t.co/g6yRTd0we4\n",
      "Sentiment(polarity=0.5, subjectivity=1.0)\n",
      "----------------------------------------------------\n",
      "@Beeline_RUS просто от юго-западной до фрузенской у меня показывает доступность эдж,первый твит я оттуда еле отправил:)\n",
      "Sentiment(polarity=0.5, subjectivity=1.0)\n",
      "----------------------------------------------------\n",
      "RT @_Beeline_kz: Друзья, теперь жителям Петропавловска доступен интернет в общественном транспорте! :) https://t.co/rICLYxbowm http://t.co/…\n",
      "Sentiment(polarity=0.5, subjectivity=1.0)\n",
      "----------------------------------------------------\n",
      "@Beeline_RUS спасибо большое :3\n",
      "Sentiment(polarity=0.5, subjectivity=1.0)\n",
      "----------------------------------------------------\n",
      "Милости от билайна :3 http://t.co/VelAS3fjrC\n",
      "Sentiment(polarity=0.5, subjectivity=1.0)\n",
      "----------------------------------------------------\n",
      "@Beeline_RUS поздравил меня с 2014 годом :3 это так мило с: спасибо \n",
      "Sentiment(polarity=0.5, subjectivity=1.0)\n",
      "----------------------------------------------------\n",
      "Такс на активацию #imessage через @Beeline_RUS я уже потратил 65 руб. Эффекта ноль. Смс отправляется но обратно не приходят! WTF??\n",
      "Sentiment(polarity=-0.5, subjectivity=1.0)\n",
      "----------------------------------------------------\n",
      "@Beeline_RUS а с 3G, особенно в Якутии, поздравьте родных лучше лично, потому что, ваши смс дойдут только 2го января :/\n",
      "Sentiment(polarity=-0.25, subjectivity=1.0)\n",
      "----------------------------------------------------\n",
      "что то у билайна их иптв приставки видно нехорошо расходятся, уже второй чтоль раз званили впаривали :)\n",
      "Sentiment(polarity=0.5, subjectivity=1.0)\n",
      "----------------------------------------------------\n",
      "вчера дали интернет, 5 дней не было :/ #билайнахуели\n",
      "Sentiment(polarity=-0.25, subjectivity=1.0)\n",
      "----------------------------------------------------\n",
      "Друзья, пользователи Beeline Казахстан ставят новые рекорды! :) [Инфографика] http://t.co/dR3FkAdZNr\n",
      "Sentiment(polarity=0.5, subjectivity=1.0)\n",
      "----------------------------------------------------\n",
      "RT @_Beeline_kz: Друзья, пользователи Beeline Казахстан ставят новые рекорды! :) [Инфографика] http://t.co/dR3FkAdZNr\n",
      "Sentiment(polarity=0.5, subjectivity=1.0)\n",
      "----------------------------------------------------\n",
      "\"Система самообслуживания\", через которую Я (!) не смог пробиться и \"обслужиться\", @Beeline_RUS, это уже за гранью ((\n",
      "Sentiment(polarity=0.0, subjectivity=1.0)\n",
      "----------------------------------------------------\n",
      "@Beeline_RUS спасибо большое :)\n",
      "Sentiment(polarity=0.5, subjectivity=1.0)\n",
      "----------------------------------------------------\n",
      "У Билайна скорость на домашнем интернет вдруг из 30 мб превратилась в 5 :(\n",
      "Sentiment(polarity=-0.75, subjectivity=1.0)\n",
      "----------------------------------------------------\n",
      "Добрый мтс :) http://t.co/RFwbdTv1b7\n",
      "Sentiment(polarity=0.5, subjectivity=1.0)\n",
      "----------------------------------------------------\n",
      "@ru_mts обещанной инструкции по смс не получил, спам про мерседес продолжает приходить. :-(\n",
      "Sentiment(polarity=-0.75, subjectivity=1.0)\n",
      "----------------------------------------------------\n",
      "Вставил симку мтс :) так что у меня есть сеть :-) пилить на поезде еще часов 6... Но ничего, живем.\n",
      "Sentiment(polarity=0.5, subjectivity=1.0)\n",
      "----------------------------------------------------\n",
      "на #МТС не приходят смс @tcsbank =(\n",
      "Sentiment(polarity=-0.75, subjectivity=1.0)\n",
      "----------------------------------------------------\n",
      "Ммм, это же целый гудок Дорна на месяц :D #СпасибоМТС http://t.co/yRobHsas3N\n",
      "Sentiment(polarity=1.0, subjectivity=1.0)\n",
      "----------------------------------------------------\n",
      "@ru_mts Интернет у меня в планшете не работает. Не знаете, почему? :-)\n",
      "Sentiment(polarity=0.5, subjectivity=1.0)\n",
      "----------------------------------------------------\n",
      "RT @qadyxeponi: Вставил симку мтс :) так что у меня есть сеть :-) пилить на поезде еще часов 6... Но ничего, живем.\n",
      "Sentiment(polarity=0.5, subjectivity=1.0)\n",
      "----------------------------------------------------\n",
      "@ru_mts @mts_ukraine благодарю =)\n",
      "Sentiment(polarity=0.5, subjectivity=1.0)\n",
      "----------------------------------------------------\n"
     ]
    }
   ],
   "source": [
    "for ind, sent in enumerate(data['sentiments']):\n",
    "    if sent.polarity != 0.0 or sent.subjectivity != 0.0:\n",
    "        print(data['text'][ind])\n",
    "        print(sent)\n",
    "        print('----------------------------------------------------')"
   ]
  },
  {
   "cell_type": "markdown",
   "metadata": {},
   "source": [
    "У нас есть 3 класса твитов. Можно попробовать вывести формулу, по которой мы будем определять класс твитов по анализу TextBlob и посчитать f1 меру, потому что accuracy не подойдет."
   ]
  },
  {
   "cell_type": "code",
   "execution_count": 15,
   "metadata": {
    "collapsed": false
   },
   "outputs": [
    {
     "data": {
      "text/plain": [
       " 0    4590\n",
       "-1    2388\n",
       " 1    1230\n",
       "Name: label, dtype: int64"
      ]
     },
     "execution_count": 15,
     "metadata": {},
     "output_type": "execute_result"
    }
   ],
   "source": [
    "train_data['label'].value_counts()\n"
   ]
  },
  {
   "cell_type": "code",
   "execution_count": 43,
   "metadata": {
    "collapsed": false
   },
   "outputs": [
    {
     "data": {
      "text/plain": [
       " 0    972\n",
       "-1    902\n",
       " 1    180\n",
       "Name: label, dtype: int64"
      ]
     },
     "execution_count": 43,
     "metadata": {},
     "output_type": "execute_result"
    }
   ],
   "source": [
    "test_data['label'].value_counts()"
   ]
  },
  {
   "cell_type": "markdown",
   "metadata": {},
   "source": [
    "Кажется, что лучше учитывать только polarity, потому что не очень понятно, как нам тут поможет subjectivity. Давайте будем считать, что:\n",
    "- от -1 до -0.25 - -1\n",
    "- от -0.25 до 0.25 - 0\n",
    "- от 0.25 до 1 - 1"
   ]
  },
  {
   "cell_type": "code",
   "execution_count": 16,
   "metadata": {
    "collapsed": true
   },
   "outputs": [],
   "source": [
    "pred = []\n",
    "for ind, sent in enumerate(data['sentiments']):\n",
    "    if sent.polarity < -0.25:\n",
    "        pred.append(-1)\n",
    "    elif sent.polarity > 0.25:\n",
    "        pred.append(1)\n",
    "    else:\n",
    "        pred.append(0)"
   ]
  },
  {
   "cell_type": "code",
   "execution_count": 17,
   "metadata": {
    "collapsed": true
   },
   "outputs": [],
   "source": [
    "data['pred'] = pred\n",
    "data['label'] = copy(train_data['label'])"
   ]
  },
  {
   "cell_type": "code",
   "execution_count": 18,
   "metadata": {
    "collapsed": false
   },
   "outputs": [
    {
     "data": {
      "text/html": [
       "<div>\n",
       "<table border=\"1\" class=\"dataframe\">\n",
       "  <thead>\n",
       "    <tr style=\"text-align: right;\">\n",
       "      <th></th>\n",
       "      <th>text</th>\n",
       "      <th>TextBlob</th>\n",
       "      <th>sentiments</th>\n",
       "      <th>pred</th>\n",
       "      <th>label</th>\n",
       "    </tr>\n",
       "  </thead>\n",
       "  <tbody>\n",
       "    <tr>\n",
       "      <th>0</th>\n",
       "      <td>@mkomov Максим, Вашем письмо мы получили. Наши...</td>\n",
       "      <td>(@, m, k, o, m, o, v,  , М, а, к, с, и, м, ,, ...</td>\n",
       "      <td>(0.0, 0.0)</td>\n",
       "      <td>0</td>\n",
       "      <td>0</td>\n",
       "    </tr>\n",
       "    <tr>\n",
       "      <th>1</th>\n",
       "      <td>«Мегафон» стал владельцем 50% акций «Евросети»</td>\n",
       "      <td>(«, М, е, г, а, ф, о, н, »,  , с, т, а, л,  , ...</td>\n",
       "      <td>(0.0, 0.0)</td>\n",
       "      <td>0</td>\n",
       "      <td>0</td>\n",
       "    </tr>\n",
       "    <tr>\n",
       "      <th>2</th>\n",
       "      <td>RT @fuckkiev: “@EvaKobb: МТС Россия прислала ж...</td>\n",
       "      <td>(R, T,  , @, f, u, c, k, k, i, e, v, :,  , “, ...</td>\n",
       "      <td>(0.0, 0.0)</td>\n",
       "      <td>0</td>\n",
       "      <td>-1</td>\n",
       "    </tr>\n",
       "    <tr>\n",
       "      <th>3</th>\n",
       "      <td>ВИДЕО: http://t.co/PSMLAhR4fI Реклама со смехо...</td>\n",
       "      <td>(В, И, Д, Е, О, :,  , h, t, t, p, :, /, /, t, ...</td>\n",
       "      <td>(0.0, 0.0)</td>\n",
       "      <td>0</td>\n",
       "      <td>1</td>\n",
       "    </tr>\n",
       "    <tr>\n",
       "      <th>4</th>\n",
       "      <td>@parfenov1960 потому что МТС достало, а пчел н...</td>\n",
       "      <td>(@, p, a, r, f, e, n, o, v, 1, 9, 6, 0,  , п, ...</td>\n",
       "      <td>(0.0, 0.0)</td>\n",
       "      <td>0</td>\n",
       "      <td>-1</td>\n",
       "    </tr>\n",
       "  </tbody>\n",
       "</table>\n",
       "</div>"
      ],
      "text/plain": [
       "                                                text  \\\n",
       "0  @mkomov Максим, Вашем письмо мы получили. Наши...   \n",
       "1     «Мегафон» стал владельцем 50% акций «Евросети»   \n",
       "2  RT @fuckkiev: “@EvaKobb: МТС Россия прислала ж...   \n",
       "3  ВИДЕО: http://t.co/PSMLAhR4fI Реклама со смехо...   \n",
       "4  @parfenov1960 потому что МТС достало, а пчел н...   \n",
       "\n",
       "                                            TextBlob  sentiments  pred  label  \n",
       "0  (@, m, k, o, m, o, v,  , М, а, к, с, и, м, ,, ...  (0.0, 0.0)     0      0  \n",
       "1  («, М, е, г, а, ф, о, н, »,  , с, т, а, л,  , ...  (0.0, 0.0)     0      0  \n",
       "2  (R, T,  , @, f, u, c, k, k, i, e, v, :,  , “, ...  (0.0, 0.0)     0     -1  \n",
       "3  (В, И, Д, Е, О, :,  , h, t, t, p, :, /, /, t, ...  (0.0, 0.0)     0      1  \n",
       "4  (@, p, a, r, f, e, n, o, v, 1, 9, 6, 0,  , п, ...  (0.0, 0.0)     0     -1  "
      ]
     },
     "execution_count": 18,
     "metadata": {},
     "output_type": "execute_result"
    }
   ],
   "source": [
    "data.head()"
   ]
  },
  {
   "cell_type": "code",
   "execution_count": 19,
   "metadata": {
    "collapsed": false
   },
   "outputs": [
    {
     "name": "stdout",
     "output_type": "stream",
     "text": [
      "              precision    recall  f1-score   support\n",
      "\n",
      "          -1       0.69      0.01      0.03      2388\n",
      "           0       0.56      0.98      0.72      4590\n",
      "           1       0.37      0.05      0.09      1230\n",
      "\n",
      "   micro avg       0.56      0.56      0.56      8208\n",
      "   macro avg       0.54      0.35      0.28      8208\n",
      "weighted avg       0.57      0.56      0.42      8208\n",
      "\n"
     ]
    }
   ],
   "source": [
    "print(classification_report(data['label'], data['pred']))"
   ]
  },
  {
   "cell_type": "markdown",
   "metadata": {},
   "source": [
    "Мы получили хороший результат для нейтрального класса, но ужасный для остальных.\n",
    "Можно попробовать предобработать текст и запустить еще раз."
   ]
  },
  {
   "cell_type": "code",
   "execution_count": 20,
   "metadata": {
    "collapsed": true
   },
   "outputs": [],
   "source": [
    "data_tok = pd.DataFrame()\n",
    "data_tok['label'] = copy(data['label'])\n",
    "data_tok['text'] = copy(data['text'])"
   ]
  },
  {
   "cell_type": "code",
   "execution_count": 21,
   "metadata": {
    "collapsed": false
   },
   "outputs": [
    {
     "data": {
      "text/html": [
       "<div>\n",
       "<table border=\"1\" class=\"dataframe\">\n",
       "  <thead>\n",
       "    <tr style=\"text-align: right;\">\n",
       "      <th></th>\n",
       "      <th>label</th>\n",
       "      <th>text</th>\n",
       "    </tr>\n",
       "  </thead>\n",
       "  <tbody>\n",
       "    <tr>\n",
       "      <th>0</th>\n",
       "      <td>0</td>\n",
       "      <td>@mkomov Максим, Вашем письмо мы получили. Наши...</td>\n",
       "    </tr>\n",
       "    <tr>\n",
       "      <th>1</th>\n",
       "      <td>0</td>\n",
       "      <td>«Мегафон» стал владельцем 50% акций «Евросети»</td>\n",
       "    </tr>\n",
       "    <tr>\n",
       "      <th>2</th>\n",
       "      <td>-1</td>\n",
       "      <td>RT @fuckkiev: “@EvaKobb: МТС Россия прислала ж...</td>\n",
       "    </tr>\n",
       "    <tr>\n",
       "      <th>3</th>\n",
       "      <td>1</td>\n",
       "      <td>ВИДЕО: http://t.co/PSMLAhR4fI Реклама со смехо...</td>\n",
       "    </tr>\n",
       "    <tr>\n",
       "      <th>4</th>\n",
       "      <td>-1</td>\n",
       "      <td>@parfenov1960 потому что МТС достало, а пчел н...</td>\n",
       "    </tr>\n",
       "  </tbody>\n",
       "</table>\n",
       "</div>"
      ],
      "text/plain": [
       "   label                                               text\n",
       "0      0  @mkomov Максим, Вашем письмо мы получили. Наши...\n",
       "1      0     «Мегафон» стал владельцем 50% акций «Евросети»\n",
       "2     -1  RT @fuckkiev: “@EvaKobb: МТС Россия прислала ж...\n",
       "3      1  ВИДЕО: http://t.co/PSMLAhR4fI Реклама со смехо...\n",
       "4     -1  @parfenov1960 потому что МТС достало, а пчел н..."
      ]
     },
     "execution_count": 21,
     "metadata": {},
     "output_type": "execute_result"
    }
   ],
   "source": [
    "data_tok.head()"
   ]
  },
  {
   "cell_type": "code",
   "execution_count": 22,
   "metadata": {
    "collapsed": true
   },
   "outputs": [],
   "source": [
    "d = [tokenize(i) for i in data['text']] \n",
    "data_tok['tokenized'] = d"
   ]
  },
  {
   "cell_type": "code",
   "execution_count": 23,
   "metadata": {
    "collapsed": false
   },
   "outputs": [
    {
     "data": {
      "text/html": [
       "<div>\n",
       "<table border=\"1\" class=\"dataframe\">\n",
       "  <thead>\n",
       "    <tr style=\"text-align: right;\">\n",
       "      <th></th>\n",
       "      <th>label</th>\n",
       "      <th>text</th>\n",
       "      <th>tokenized</th>\n",
       "    </tr>\n",
       "  </thead>\n",
       "  <tbody>\n",
       "    <tr>\n",
       "      <th>0</th>\n",
       "      <td>0</td>\n",
       "      <td>@mkomov Максим, Вашем письмо мы получили. Наши...</td>\n",
       "      <td>mkomov максим вашем письмо мы получили наши со...</td>\n",
       "    </tr>\n",
       "    <tr>\n",
       "      <th>1</th>\n",
       "      <td>0</td>\n",
       "      <td>«Мегафон» стал владельцем 50% акций «Евросети»</td>\n",
       "      <td>мегафон стал владельцем 50 акций евросети</td>\n",
       "    </tr>\n",
       "    <tr>\n",
       "      <th>2</th>\n",
       "      <td>-1</td>\n",
       "      <td>RT @fuckkiev: “@EvaKobb: МТС Россия прислала ж...</td>\n",
       "      <td>rt fuckkiev evakobb мтс россия прислала жителя...</td>\n",
       "    </tr>\n",
       "    <tr>\n",
       "      <th>3</th>\n",
       "      <td>1</td>\n",
       "      <td>ВИДЕО: http://t.co/PSMLAhR4fI Реклама со смехо...</td>\n",
       "      <td>видео реклама со смехом мтс  супер 0</td>\n",
       "    </tr>\n",
       "    <tr>\n",
       "      <th>4</th>\n",
       "      <td>-1</td>\n",
       "      <td>@parfenov1960 потому что МТС достало, а пчел н...</td>\n",
       "      <td>parfenov1960 потому что мтс достало а пчел нен...</td>\n",
       "    </tr>\n",
       "  </tbody>\n",
       "</table>\n",
       "</div>"
      ],
      "text/plain": [
       "   label                                               text  \\\n",
       "0      0  @mkomov Максим, Вашем письмо мы получили. Наши...   \n",
       "1      0     «Мегафон» стал владельцем 50% акций «Евросети»   \n",
       "2     -1  RT @fuckkiev: “@EvaKobb: МТС Россия прислала ж...   \n",
       "3      1  ВИДЕО: http://t.co/PSMLAhR4fI Реклама со смехо...   \n",
       "4     -1  @parfenov1960 потому что МТС достало, а пчел н...   \n",
       "\n",
       "                                           tokenized  \n",
       "0  mkomov максим вашем письмо мы получили наши со...  \n",
       "1          мегафон стал владельцем 50 акций евросети  \n",
       "2  rt fuckkiev evakobb мтс россия прислала жителя...  \n",
       "3               видео реклама со смехом мтс  супер 0  \n",
       "4  parfenov1960 потому что мтс достало а пчел нен...  "
      ]
     },
     "execution_count": 23,
     "metadata": {},
     "output_type": "execute_result"
    }
   ],
   "source": [
    "data_tok.head()"
   ]
  },
  {
   "cell_type": "code",
   "execution_count": 24,
   "metadata": {
    "collapsed": true
   },
   "outputs": [],
   "source": [
    "t = [TextBlob(i) for i in data_tok['tokenized']]\n",
    "data_tok['TextBlob'] = t\n",
    "\n",
    "s = [i.sentiment for i in data_tok['TextBlob']]\n",
    "data_tok['sentiments'] = s\n",
    "\n",
    "pred = []\n",
    "for ind, sent in enumerate(data_tok['sentiments']):\n",
    "    if sent.polarity < -0.25:\n",
    "        pred.append(-1)\n",
    "    elif sent.polarity > 0.25:\n",
    "        pred.append(1)\n",
    "    else:\n",
    "        pred.append(0)"
   ]
  },
  {
   "cell_type": "code",
   "execution_count": 25,
   "metadata": {
    "collapsed": false
   },
   "outputs": [
    {
     "data": {
      "text/html": [
       "<div>\n",
       "<table border=\"1\" class=\"dataframe\">\n",
       "  <thead>\n",
       "    <tr style=\"text-align: right;\">\n",
       "      <th></th>\n",
       "      <th>label</th>\n",
       "      <th>text</th>\n",
       "      <th>tokenized</th>\n",
       "      <th>TextBlob</th>\n",
       "      <th>sentiments</th>\n",
       "    </tr>\n",
       "  </thead>\n",
       "  <tbody>\n",
       "    <tr>\n",
       "      <th>0</th>\n",
       "      <td>0</td>\n",
       "      <td>@mkomov Максим, Вашем письмо мы получили. Наши...</td>\n",
       "      <td>mkomov максим вашем письмо мы получили наши со...</td>\n",
       "      <td>(m, k, o, m, o, v,  , м, а, к, с, и, м,  , в, ...</td>\n",
       "      <td>(0.0, 0.0)</td>\n",
       "    </tr>\n",
       "    <tr>\n",
       "      <th>1</th>\n",
       "      <td>0</td>\n",
       "      <td>«Мегафон» стал владельцем 50% акций «Евросети»</td>\n",
       "      <td>мегафон стал владельцем 50 акций евросети</td>\n",
       "      <td>(м, е, г, а, ф, о, н,  , с, т, а, л,  , в, л, ...</td>\n",
       "      <td>(0.0, 0.0)</td>\n",
       "    </tr>\n",
       "    <tr>\n",
       "      <th>2</th>\n",
       "      <td>-1</td>\n",
       "      <td>RT @fuckkiev: “@EvaKobb: МТС Россия прислала ж...</td>\n",
       "      <td>rt fuckkiev evakobb мтс россия прислала жителя...</td>\n",
       "      <td>(r, t,  , f, u, c, k, k, i, e, v,  , e, v, a, ...</td>\n",
       "      <td>(0.0, 0.0)</td>\n",
       "    </tr>\n",
       "    <tr>\n",
       "      <th>3</th>\n",
       "      <td>1</td>\n",
       "      <td>ВИДЕО: http://t.co/PSMLAhR4fI Реклама со смехо...</td>\n",
       "      <td>видео реклама со смехом мтс  супер 0</td>\n",
       "      <td>(в, и, д, е, о,  , р, е, к, л, а, м, а,  , с, ...</td>\n",
       "      <td>(0.0, 0.0)</td>\n",
       "    </tr>\n",
       "    <tr>\n",
       "      <th>4</th>\n",
       "      <td>-1</td>\n",
       "      <td>@parfenov1960 потому что МТС достало, а пчел н...</td>\n",
       "      <td>parfenov1960 потому что мтс достало а пчел нен...</td>\n",
       "      <td>(p, a, r, f, e, n, o, v, 1, 9, 6, 0,  , п, о, ...</td>\n",
       "      <td>(0.0, 0.0)</td>\n",
       "    </tr>\n",
       "  </tbody>\n",
       "</table>\n",
       "</div>"
      ],
      "text/plain": [
       "   label                                               text  \\\n",
       "0      0  @mkomov Максим, Вашем письмо мы получили. Наши...   \n",
       "1      0     «Мегафон» стал владельцем 50% акций «Евросети»   \n",
       "2     -1  RT @fuckkiev: “@EvaKobb: МТС Россия прислала ж...   \n",
       "3      1  ВИДЕО: http://t.co/PSMLAhR4fI Реклама со смехо...   \n",
       "4     -1  @parfenov1960 потому что МТС достало, а пчел н...   \n",
       "\n",
       "                                           tokenized  \\\n",
       "0  mkomov максим вашем письмо мы получили наши со...   \n",
       "1          мегафон стал владельцем 50 акций евросети   \n",
       "2  rt fuckkiev evakobb мтс россия прислала жителя...   \n",
       "3               видео реклама со смехом мтс  супер 0   \n",
       "4  parfenov1960 потому что мтс достало а пчел нен...   \n",
       "\n",
       "                                            TextBlob  sentiments  \n",
       "0  (m, k, o, m, o, v,  , м, а, к, с, и, м,  , в, ...  (0.0, 0.0)  \n",
       "1  (м, е, г, а, ф, о, н,  , с, т, а, л,  , в, л, ...  (0.0, 0.0)  \n",
       "2  (r, t,  , f, u, c, k, k, i, e, v,  , e, v, a, ...  (0.0, 0.0)  \n",
       "3  (в, и, д, е, о,  , р, е, к, л, а, м, а,  , с, ...  (0.0, 0.0)  \n",
       "4  (p, a, r, f, e, n, o, v, 1, 9, 6, 0,  , п, о, ...  (0.0, 0.0)  "
      ]
     },
     "execution_count": 25,
     "metadata": {},
     "output_type": "execute_result"
    }
   ],
   "source": [
    "data_tok.head()"
   ]
  },
  {
   "cell_type": "code",
   "execution_count": 26,
   "metadata": {
    "collapsed": false
   },
   "outputs": [
    {
     "name": "stdout",
     "output_type": "stream",
     "text": [
      "              precision    recall  f1-score   support\n",
      "\n",
      "          -1       0.69      0.01      0.03      2388\n",
      "           0       0.56      0.98      0.72      4590\n",
      "           1       0.37      0.05      0.09      1230\n",
      "\n",
      "   micro avg       0.56      0.56      0.56      8208\n",
      "   macro avg       0.54      0.35      0.28      8208\n",
      "weighted avg       0.57      0.56      0.42      8208\n",
      "\n"
     ]
    }
   ],
   "source": [
    "print(classification_report(data_tok['label'], data['pred']))"
   ]
  },
  {
   "cell_type": "markdown",
   "metadata": {},
   "source": [
    "Лучше не стало. Попробуем встроенный в TextBlob классификатор"
   ]
  },
  {
   "cell_type": "code",
   "execution_count": 27,
   "metadata": {
    "collapsed": true
   },
   "outputs": [],
   "source": [
    "train = []\n",
    "\n",
    "\n",
    "for ind, text in enumerate(train_data['text']):\n",
    "    train.append(tuple([text, train_data['label'][ind]]))\n",
    "    \n",
    "test = []\n",
    "for ind, text in enumerate(test_data['text']):\n",
    "    test.append(tuple([text, test_data['label'][ind]]))"
   ]
  },
  {
   "cell_type": "code",
   "execution_count": 28,
   "metadata": {
    "collapsed": false
   },
   "outputs": [
    {
     "data": {
      "text/plain": [
       "[('@mkomov Максим, Вашем письмо мы получили. Наши сотрудники свяжутся с Вами завтра и направят запрос инженерам для проверки. #билайн',\n",
       "  0),\n",
       " ('«Мегафон» стал владельцем 50% акций «Евросети»', 0),\n",
       " ('RT @fuckkiev: “@EvaKobb: МТС Россия прислала жителям Херсонщины сообщения, в которых обозвала украинцев фашистами? http://t.co/RbSesXlOUZ” …',\n",
       "  -1),\n",
       " ('ВИДЕО: http://t.co/PSMLAhR4fI Реклама со смехом МТС - Супер 0', 1),\n",
       " ('@parfenov1960 потому что МТС достало, а пчел ненавижу с детства, как и их мёд!',\n",
       "  -1)]"
      ]
     },
     "execution_count": 28,
     "metadata": {},
     "output_type": "execute_result"
    }
   ],
   "source": [
    "train[:5]"
   ]
  },
  {
   "cell_type": "code",
   "execution_count": 29,
   "metadata": {
    "collapsed": false
   },
   "outputs": [
    {
     "data": {
      "text/plain": [
       "[('RT vzglyad: По делу о работе МТС в Узбекистане США предложили заморозить 300 млн',\n",
       "  -1),\n",
       " ('RT @kevinuyatukox: http://t.co/ljtrjq91v3 #Кредитные карты мегафон банка',\n",
       "  0),\n",
       " ('#Оформить кредитную карту в банке мтс http://t.co/vv1B6PMWgH', 0),\n",
       " ('#Как перевести деньги с билайна на кредитную карту', 0),\n",
       " ('#Начальник отдела кредитного контроля оао мтс усачева н а', 0)]"
      ]
     },
     "execution_count": 29,
     "metadata": {},
     "output_type": "execute_result"
    }
   ],
   "source": [
    "test[:5]"
   ]
  },
  {
   "cell_type": "code",
   "execution_count": 31,
   "metadata": {
    "collapsed": false
   },
   "outputs": [
    {
     "data": {
      "text/plain": [
       "2054"
      ]
     },
     "execution_count": 31,
     "metadata": {},
     "output_type": "execute_result"
    }
   ],
   "source": [
    "len(test)"
   ]
  },
  {
   "cell_type": "code",
   "execution_count": 30,
   "metadata": {
    "collapsed": true
   },
   "outputs": [],
   "source": [
    "from textblob.classifiers import NaiveBayesClassifier\n",
    "from textblob.classifiers import DecisionTreeClassifier"
   ]
  },
  {
   "cell_type": "markdown",
   "metadata": {},
   "source": [
    "Почему-то встроенные в textblob классификаторы оооооочень долго работают при большом количестве текстов. Поэтому я решила уменьшить количество путем уравнивания классов."
   ]
  },
  {
   "cell_type": "code",
   "execution_count": 32,
   "metadata": {
    "collapsed": true
   },
   "outputs": [],
   "source": [
    "train = []\n",
    "train_neg = 0\n",
    "train_netr = 0\n",
    "\n",
    "for ind, text in enumerate(train_data['text']):\n",
    "    if train_data['label'][ind] == -1:\n",
    "        if train_neg < 1230:\n",
    "            train.append(tuple([text, train_data['label'][ind]]))\n",
    "            train_neg+=1\n",
    "    \n",
    "    elif train_data['label'][ind] == 0:\n",
    "        if train_netr < 1230:\n",
    "            train.append(tuple([text, train_data['label'][ind]]))\n",
    "            train_netr+=1\n",
    "    \n",
    "    else:\n",
    "        train.append(tuple([text, train_data['label'][ind]]))"
   ]
  },
  {
   "cell_type": "code",
   "execution_count": 44,
   "metadata": {
    "collapsed": true
   },
   "outputs": [],
   "source": [
    "test = []\n",
    "test_neg = 0\n",
    "test_netr = 0\n",
    "\n",
    "for ind, text in enumerate(test_data['text']):\n",
    "    if test_data['label'][ind] == -1:\n",
    "        if test_neg < 180:\n",
    "            test.append(tuple([text, test_data['label'][ind]]))\n",
    "            test_neg+=1\n",
    "    \n",
    "    elif test_data['label'][ind] == 0:\n",
    "        if test_netr < 180:\n",
    "            test.append(tuple([text, test_data['label'][ind]]))\n",
    "            test_netr+=1\n",
    "    \n",
    "    else:\n",
    "        test.append(tuple([text, test_data['label'][ind]]))"
   ]
  },
  {
   "cell_type": "code",
   "execution_count": 45,
   "metadata": {
    "collapsed": false
   },
   "outputs": [
    {
     "name": "stdout",
     "output_type": "stream",
     "text": [
      "540\n"
     ]
    }
   ],
   "source": [
    "print(len(test))"
   ]
  },
  {
   "cell_type": "code",
   "execution_count": 46,
   "metadata": {
    "collapsed": false
   },
   "outputs": [
    {
     "name": "stdout",
     "output_type": "stream",
     "text": [
      "3690\n"
     ]
    }
   ],
   "source": [
    "print(len(train))"
   ]
  },
  {
   "cell_type": "code",
   "execution_count": 40,
   "metadata": {
    "collapsed": false
   },
   "outputs": [
    {
     "name": "stdout",
     "output_type": "stream",
     "text": [
      "[nltk_data] Downloading package punkt to\n",
      "[nltk_data]     /home/sashamattini/nltk_data...\n",
      "[nltk_data]   Unzipping tokenizers/punkt.zip.\n"
     ]
    },
    {
     "data": {
      "text/plain": [
       "True"
      ]
     },
     "execution_count": 40,
     "metadata": {},
     "output_type": "execute_result"
    }
   ],
   "source": [
    "import nltk\n",
    "nltk.download('punkt')"
   ]
  },
  {
   "cell_type": "code",
   "execution_count": 41,
   "metadata": {
    "collapsed": false
   },
   "outputs": [
    {
     "name": "stdout",
     "output_type": "stream",
     "text": [
      "CPU times: user 38.6 s, sys: 3.81 s, total: 42.4 s\n",
      "Wall time: 42.4 s\n"
     ]
    }
   ],
   "source": [
    "%%time\n",
    "cl = DecisionTreeClassifier(train)"
   ]
  },
  {
   "cell_type": "code",
   "execution_count": 49,
   "metadata": {
    "collapsed": false
   },
   "outputs": [
    {
     "ename": "KeyboardInterrupt",
     "evalue": "",
     "output_type": "error",
     "traceback": [
      "\u001b[1;31m---------------------------------------------------------------------------\u001b[0m",
      "\u001b[1;31mKeyboardInterrupt\u001b[0m                         Traceback (most recent call last)",
      "\u001b[1;32m<ipython-input-49-1ca1cb8d00e1>\u001b[0m in \u001b[0;36m<module>\u001b[1;34m()\u001b[0m\n\u001b[1;32m----> 1\u001b[1;33m \u001b[0mget_ipython\u001b[0m\u001b[1;33m(\u001b[0m\u001b[1;33m)\u001b[0m\u001b[1;33m.\u001b[0m\u001b[0mrun_cell_magic\u001b[0m\u001b[1;33m(\u001b[0m\u001b[1;34m'time'\u001b[0m\u001b[1;33m,\u001b[0m \u001b[1;34m''\u001b[0m\u001b[1;33m,\u001b[0m \u001b[1;34m'cl.accuracy(test[:5])'\u001b[0m\u001b[1;33m)\u001b[0m\u001b[1;33m\u001b[0m\u001b[0m\n\u001b[0m",
      "\u001b[1;32m/home/sashamattini/anaconda3/lib/python3.5/site-packages/IPython/core/interactiveshell.py\u001b[0m in \u001b[0;36mrun_cell_magic\u001b[1;34m(self, magic_name, line, cell)\u001b[0m\n\u001b[0;32m   2118\u001b[0m             \u001b[0mmagic_arg_s\u001b[0m \u001b[1;33m=\u001b[0m \u001b[0mself\u001b[0m\u001b[1;33m.\u001b[0m\u001b[0mvar_expand\u001b[0m\u001b[1;33m(\u001b[0m\u001b[0mline\u001b[0m\u001b[1;33m,\u001b[0m \u001b[0mstack_depth\u001b[0m\u001b[1;33m)\u001b[0m\u001b[1;33m\u001b[0m\u001b[0m\n\u001b[0;32m   2119\u001b[0m             \u001b[1;32mwith\u001b[0m \u001b[0mself\u001b[0m\u001b[1;33m.\u001b[0m\u001b[0mbuiltin_trap\u001b[0m\u001b[1;33m:\u001b[0m\u001b[1;33m\u001b[0m\u001b[0m\n\u001b[1;32m-> 2120\u001b[1;33m                 \u001b[0mresult\u001b[0m \u001b[1;33m=\u001b[0m \u001b[0mfn\u001b[0m\u001b[1;33m(\u001b[0m\u001b[0mmagic_arg_s\u001b[0m\u001b[1;33m,\u001b[0m \u001b[0mcell\u001b[0m\u001b[1;33m)\u001b[0m\u001b[1;33m\u001b[0m\u001b[0m\n\u001b[0m\u001b[0;32m   2121\u001b[0m             \u001b[1;32mreturn\u001b[0m \u001b[0mresult\u001b[0m\u001b[1;33m\u001b[0m\u001b[0m\n\u001b[0;32m   2122\u001b[0m \u001b[1;33m\u001b[0m\u001b[0m\n",
      "\u001b[1;32m<decorator-gen-60>\u001b[0m in \u001b[0;36mtime\u001b[1;34m(self, line, cell, local_ns)\u001b[0m\n",
      "\u001b[1;32m/home/sashamattini/anaconda3/lib/python3.5/site-packages/IPython/core/magic.py\u001b[0m in \u001b[0;36m<lambda>\u001b[1;34m(f, *a, **k)\u001b[0m\n\u001b[0;32m    191\u001b[0m     \u001b[1;31m# but it's overkill for just that one bit of state.\u001b[0m\u001b[1;33m\u001b[0m\u001b[1;33m\u001b[0m\u001b[0m\n\u001b[0;32m    192\u001b[0m     \u001b[1;32mdef\u001b[0m \u001b[0mmagic_deco\u001b[0m\u001b[1;33m(\u001b[0m\u001b[0marg\u001b[0m\u001b[1;33m)\u001b[0m\u001b[1;33m:\u001b[0m\u001b[1;33m\u001b[0m\u001b[0m\n\u001b[1;32m--> 193\u001b[1;33m         \u001b[0mcall\u001b[0m \u001b[1;33m=\u001b[0m \u001b[1;32mlambda\u001b[0m \u001b[0mf\u001b[0m\u001b[1;33m,\u001b[0m \u001b[1;33m*\u001b[0m\u001b[0ma\u001b[0m\u001b[1;33m,\u001b[0m \u001b[1;33m**\u001b[0m\u001b[0mk\u001b[0m\u001b[1;33m:\u001b[0m \u001b[0mf\u001b[0m\u001b[1;33m(\u001b[0m\u001b[1;33m*\u001b[0m\u001b[0ma\u001b[0m\u001b[1;33m,\u001b[0m \u001b[1;33m**\u001b[0m\u001b[0mk\u001b[0m\u001b[1;33m)\u001b[0m\u001b[1;33m\u001b[0m\u001b[0m\n\u001b[0m\u001b[0;32m    194\u001b[0m \u001b[1;33m\u001b[0m\u001b[0m\n\u001b[0;32m    195\u001b[0m         \u001b[1;32mif\u001b[0m \u001b[0mcallable\u001b[0m\u001b[1;33m(\u001b[0m\u001b[0marg\u001b[0m\u001b[1;33m)\u001b[0m\u001b[1;33m:\u001b[0m\u001b[1;33m\u001b[0m\u001b[0m\n",
      "\u001b[1;32m/home/sashamattini/anaconda3/lib/python3.5/site-packages/IPython/core/magics/execution.py\u001b[0m in \u001b[0;36mtime\u001b[1;34m(self, line, cell, local_ns)\u001b[0m\n\u001b[0;32m   1171\u001b[0m         \u001b[1;32mif\u001b[0m \u001b[0mmode\u001b[0m\u001b[1;33m==\u001b[0m\u001b[1;34m'eval'\u001b[0m\u001b[1;33m:\u001b[0m\u001b[1;33m\u001b[0m\u001b[0m\n\u001b[0;32m   1172\u001b[0m             \u001b[0mst\u001b[0m \u001b[1;33m=\u001b[0m \u001b[0mclock2\u001b[0m\u001b[1;33m(\u001b[0m\u001b[1;33m)\u001b[0m\u001b[1;33m\u001b[0m\u001b[0m\n\u001b[1;32m-> 1173\u001b[1;33m             \u001b[0mout\u001b[0m \u001b[1;33m=\u001b[0m \u001b[0meval\u001b[0m\u001b[1;33m(\u001b[0m\u001b[0mcode\u001b[0m\u001b[1;33m,\u001b[0m \u001b[0mglob\u001b[0m\u001b[1;33m,\u001b[0m \u001b[0mlocal_ns\u001b[0m\u001b[1;33m)\u001b[0m\u001b[1;33m\u001b[0m\u001b[0m\n\u001b[0m\u001b[0;32m   1174\u001b[0m             \u001b[0mend\u001b[0m \u001b[1;33m=\u001b[0m \u001b[0mclock2\u001b[0m\u001b[1;33m(\u001b[0m\u001b[1;33m)\u001b[0m\u001b[1;33m\u001b[0m\u001b[0m\n\u001b[0;32m   1175\u001b[0m         \u001b[1;32melse\u001b[0m\u001b[1;33m:\u001b[0m\u001b[1;33m\u001b[0m\u001b[0m\n",
      "\u001b[1;32m<timed eval>\u001b[0m in \u001b[0;36m<module>\u001b[1;34m()\u001b[0m\n",
      "\u001b[1;32m/home/sashamattini/anaconda3/lib/python3.5/site-packages/textblob/classifiers.py\u001b[0m in \u001b[0;36maccuracy\u001b[1;34m(self, test_set, format)\u001b[0m\n\u001b[0;32m    265\u001b[0m             \u001b[0mtest_data\u001b[0m \u001b[1;33m=\u001b[0m \u001b[0mtest_set\u001b[0m\u001b[1;33m\u001b[0m\u001b[0m\n\u001b[0;32m    266\u001b[0m         \u001b[0mtest_features\u001b[0m \u001b[1;33m=\u001b[0m \u001b[1;33m[\u001b[0m\u001b[1;33m(\u001b[0m\u001b[0mself\u001b[0m\u001b[1;33m.\u001b[0m\u001b[0mextract_features\u001b[0m\u001b[1;33m(\u001b[0m\u001b[0md\u001b[0m\u001b[1;33m)\u001b[0m\u001b[1;33m,\u001b[0m \u001b[0mc\u001b[0m\u001b[1;33m)\u001b[0m \u001b[1;32mfor\u001b[0m \u001b[0md\u001b[0m\u001b[1;33m,\u001b[0m \u001b[0mc\u001b[0m \u001b[1;32min\u001b[0m \u001b[0mtest_data\u001b[0m\u001b[1;33m]\u001b[0m\u001b[1;33m\u001b[0m\u001b[0m\n\u001b[1;32m--> 267\u001b[1;33m         \u001b[1;32mreturn\u001b[0m \u001b[0mnltk\u001b[0m\u001b[1;33m.\u001b[0m\u001b[0mclassify\u001b[0m\u001b[1;33m.\u001b[0m\u001b[0maccuracy\u001b[0m\u001b[1;33m(\u001b[0m\u001b[0mself\u001b[0m\u001b[1;33m.\u001b[0m\u001b[0mclassifier\u001b[0m\u001b[1;33m,\u001b[0m \u001b[0mtest_features\u001b[0m\u001b[1;33m)\u001b[0m\u001b[1;33m\u001b[0m\u001b[0m\n\u001b[0m\u001b[0;32m    268\u001b[0m \u001b[1;33m\u001b[0m\u001b[0m\n\u001b[0;32m    269\u001b[0m     \u001b[1;32mdef\u001b[0m \u001b[0mupdate\u001b[0m\u001b[1;33m(\u001b[0m\u001b[0mself\u001b[0m\u001b[1;33m,\u001b[0m \u001b[0mnew_data\u001b[0m\u001b[1;33m,\u001b[0m \u001b[1;33m*\u001b[0m\u001b[0margs\u001b[0m\u001b[1;33m,\u001b[0m \u001b[1;33m**\u001b[0m\u001b[0mkwargs\u001b[0m\u001b[1;33m)\u001b[0m\u001b[1;33m:\u001b[0m\u001b[1;33m\u001b[0m\u001b[0m\n",
      "\u001b[1;32m/home/sashamattini/anaconda3/lib/python3.5/site-packages/textblob/decorators.py\u001b[0m in \u001b[0;36m__get__\u001b[1;34m(self, obj, cls)\u001b[0m\n\u001b[0;32m     22\u001b[0m         \u001b[1;32mif\u001b[0m \u001b[0mobj\u001b[0m \u001b[1;32mis\u001b[0m \u001b[1;32mNone\u001b[0m\u001b[1;33m:\u001b[0m\u001b[1;33m\u001b[0m\u001b[0m\n\u001b[0;32m     23\u001b[0m             \u001b[1;32mreturn\u001b[0m \u001b[0mself\u001b[0m\u001b[1;33m\u001b[0m\u001b[0m\n\u001b[1;32m---> 24\u001b[1;33m         \u001b[0mvalue\u001b[0m \u001b[1;33m=\u001b[0m \u001b[0mobj\u001b[0m\u001b[1;33m.\u001b[0m\u001b[0m__dict__\u001b[0m\u001b[1;33m[\u001b[0m\u001b[0mself\u001b[0m\u001b[1;33m.\u001b[0m\u001b[0mfunc\u001b[0m\u001b[1;33m.\u001b[0m\u001b[0m__name__\u001b[0m\u001b[1;33m]\u001b[0m \u001b[1;33m=\u001b[0m \u001b[0mself\u001b[0m\u001b[1;33m.\u001b[0m\u001b[0mfunc\u001b[0m\u001b[1;33m(\u001b[0m\u001b[0mobj\u001b[0m\u001b[1;33m)\u001b[0m\u001b[1;33m\u001b[0m\u001b[0m\n\u001b[0m\u001b[0;32m     25\u001b[0m         \u001b[1;32mreturn\u001b[0m \u001b[0mvalue\u001b[0m\u001b[1;33m\u001b[0m\u001b[0m\n\u001b[0;32m     26\u001b[0m \u001b[1;33m\u001b[0m\u001b[0m\n",
      "\u001b[1;32m/home/sashamattini/anaconda3/lib/python3.5/site-packages/textblob/classifiers.py\u001b[0m in \u001b[0;36mclassifier\u001b[1;34m(self)\u001b[0m\n\u001b[0;32m    215\u001b[0m         \u001b[1;34m\"\"\"The classifier.\"\"\"\u001b[0m\u001b[1;33m\u001b[0m\u001b[0m\n\u001b[0;32m    216\u001b[0m         \u001b[1;32mtry\u001b[0m\u001b[1;33m:\u001b[0m\u001b[1;33m\u001b[0m\u001b[0m\n\u001b[1;32m--> 217\u001b[1;33m             \u001b[1;32mreturn\u001b[0m \u001b[0mself\u001b[0m\u001b[1;33m.\u001b[0m\u001b[0mtrain\u001b[0m\u001b[1;33m(\u001b[0m\u001b[1;33m)\u001b[0m\u001b[1;33m\u001b[0m\u001b[0m\n\u001b[0m\u001b[0;32m    218\u001b[0m         \u001b[1;32mexcept\u001b[0m \u001b[0mAttributeError\u001b[0m\u001b[1;33m:\u001b[0m  \u001b[1;31m# nltk_class has not been defined\u001b[0m\u001b[1;33m\u001b[0m\u001b[0m\n\u001b[0;32m    219\u001b[0m             raise ValueError(\"NLTKClassifier must have a nltk_class\"\n",
      "\u001b[1;32m/home/sashamattini/anaconda3/lib/python3.5/site-packages/textblob/classifiers.py\u001b[0m in \u001b[0;36mtrain\u001b[1;34m(self, *args, **kwargs)\u001b[0m\n\u001b[0;32m    233\u001b[0m         \u001b[1;32mtry\u001b[0m\u001b[1;33m:\u001b[0m\u001b[1;33m\u001b[0m\u001b[0m\n\u001b[0;32m    234\u001b[0m             self.classifier = self.nltk_class.train(self.train_features,\n\u001b[1;32m--> 235\u001b[1;33m                                                     *args, **kwargs)\n\u001b[0m\u001b[0;32m    236\u001b[0m             \u001b[1;32mreturn\u001b[0m \u001b[0mself\u001b[0m\u001b[1;33m.\u001b[0m\u001b[0mclassifier\u001b[0m\u001b[1;33m\u001b[0m\u001b[0m\n\u001b[0;32m    237\u001b[0m         \u001b[1;32mexcept\u001b[0m \u001b[0mAttributeError\u001b[0m\u001b[1;33m:\u001b[0m\u001b[1;33m\u001b[0m\u001b[0m\n",
      "\u001b[1;32m/home/sashamattini/anaconda3/lib/python3.5/site-packages/nltk/classify/decisiontree.py\u001b[0m in \u001b[0;36mtrain\u001b[1;34m(labeled_featuresets, entropy_cutoff, depth_cutoff, support_cutoff, binary, feature_values, verbose)\u001b[0m\n\u001b[0;32m    152\u001b[0m         \u001b[1;32mif\u001b[0m \u001b[1;32mnot\u001b[0m \u001b[0mbinary\u001b[0m\u001b[1;33m:\u001b[0m\u001b[1;33m\u001b[0m\u001b[0m\n\u001b[0;32m    153\u001b[0m             tree = DecisionTreeClassifier.best_stump(\n\u001b[1;32m--> 154\u001b[1;33m                 feature_names, labeled_featuresets, verbose)\n\u001b[0m\u001b[0;32m    155\u001b[0m         \u001b[1;32melse\u001b[0m\u001b[1;33m:\u001b[0m\u001b[1;33m\u001b[0m\u001b[0m\n\u001b[0;32m    156\u001b[0m             tree = DecisionTreeClassifier.best_binary_stump(\n",
      "\u001b[1;32m/home/sashamattini/anaconda3/lib/python3.5/site-packages/nltk/classify/decisiontree.py\u001b[0m in \u001b[0;36mbest_stump\u001b[1;34m(feature_names, labeled_featuresets, verbose)\u001b[0m\n\u001b[0;32m    220\u001b[0m         \u001b[1;32mfor\u001b[0m \u001b[0mfname\u001b[0m \u001b[1;32min\u001b[0m \u001b[0mfeature_names\u001b[0m\u001b[1;33m:\u001b[0m\u001b[1;33m\u001b[0m\u001b[0m\n\u001b[0;32m    221\u001b[0m             \u001b[0mstump\u001b[0m \u001b[1;33m=\u001b[0m \u001b[0mDecisionTreeClassifier\u001b[0m\u001b[1;33m.\u001b[0m\u001b[0mstump\u001b[0m\u001b[1;33m(\u001b[0m\u001b[0mfname\u001b[0m\u001b[1;33m,\u001b[0m \u001b[0mlabeled_featuresets\u001b[0m\u001b[1;33m)\u001b[0m\u001b[1;33m\u001b[0m\u001b[0m\n\u001b[1;32m--> 222\u001b[1;33m             \u001b[0mstump_error\u001b[0m \u001b[1;33m=\u001b[0m \u001b[0mstump\u001b[0m\u001b[1;33m.\u001b[0m\u001b[0merror\u001b[0m\u001b[1;33m(\u001b[0m\u001b[0mlabeled_featuresets\u001b[0m\u001b[1;33m)\u001b[0m\u001b[1;33m\u001b[0m\u001b[0m\n\u001b[0m\u001b[0;32m    223\u001b[0m             \u001b[1;32mif\u001b[0m \u001b[0mstump_error\u001b[0m \u001b[1;33m<\u001b[0m \u001b[0mbest_error\u001b[0m\u001b[1;33m:\u001b[0m\u001b[1;33m\u001b[0m\u001b[0m\n\u001b[0;32m    224\u001b[0m                 \u001b[0mbest_error\u001b[0m \u001b[1;33m=\u001b[0m \u001b[0mstump_error\u001b[0m\u001b[1;33m\u001b[0m\u001b[0m\n",
      "\u001b[1;32m/home/sashamattini/anaconda3/lib/python3.5/site-packages/nltk/classify/decisiontree.py\u001b[0m in \u001b[0;36merror\u001b[1;34m(self, labeled_featuresets)\u001b[0m\n\u001b[0;32m     68\u001b[0m         \u001b[0merrors\u001b[0m \u001b[1;33m=\u001b[0m \u001b[1;36m0\u001b[0m\u001b[1;33m\u001b[0m\u001b[0m\n\u001b[0;32m     69\u001b[0m         \u001b[1;32mfor\u001b[0m \u001b[0mfeatureset\u001b[0m\u001b[1;33m,\u001b[0m \u001b[0mlabel\u001b[0m \u001b[1;32min\u001b[0m \u001b[0mlabeled_featuresets\u001b[0m\u001b[1;33m:\u001b[0m\u001b[1;33m\u001b[0m\u001b[0m\n\u001b[1;32m---> 70\u001b[1;33m             \u001b[1;32mif\u001b[0m \u001b[0mself\u001b[0m\u001b[1;33m.\u001b[0m\u001b[0mclassify\u001b[0m\u001b[1;33m(\u001b[0m\u001b[0mfeatureset\u001b[0m\u001b[1;33m)\u001b[0m \u001b[1;33m!=\u001b[0m \u001b[0mlabel\u001b[0m\u001b[1;33m:\u001b[0m\u001b[1;33m\u001b[0m\u001b[0m\n\u001b[0m\u001b[0;32m     71\u001b[0m                 \u001b[0merrors\u001b[0m \u001b[1;33m+=\u001b[0m \u001b[1;36m1\u001b[0m\u001b[1;33m\u001b[0m\u001b[0m\n\u001b[0;32m     72\u001b[0m         \u001b[1;32mreturn\u001b[0m \u001b[0merrors\u001b[0m\u001b[1;33m/\u001b[0m\u001b[0mlen\u001b[0m\u001b[1;33m(\u001b[0m\u001b[0mlabeled_featuresets\u001b[0m\u001b[1;33m)\u001b[0m\u001b[1;33m\u001b[0m\u001b[0m\n",
      "\u001b[1;31mKeyboardInterrupt\u001b[0m: "
     ]
    }
   ],
   "source": [
    "%%time\n",
    "cl.accuracy(test[:5])"
   ]
  },
  {
   "cell_type": "markdown",
   "metadata": {
    "collapsed": true
   },
   "source": [
    "### Fail\n",
    "Что мне удалось выяснить: \n",
    "- скорее всего, что-то сломалось в библиотеке, потому что на этапе прогона модели на тесте, она уходит в непрерывную работу на непонятное количество часов (комп с 8гб оперативы вообще довела до логов).\n",
    "- от количество данных это не зависит, потому что я их уменьшала, а результат тот же"
   ]
  },
  {
   "cell_type": "markdown",
   "metadata": {
    "collapsed": true
   },
   "source": [
    "### Что еще умеет TextBlob?"
   ]
  },
  {
   "cell_type": "code",
   "execution_count": 58,
   "metadata": {
    "collapsed": false
   },
   "outputs": [
    {
     "data": {
      "text/html": [
       "<div>\n",
       "<table border=\"1\" class=\"dataframe\">\n",
       "  <thead>\n",
       "    <tr style=\"text-align: right;\">\n",
       "      <th></th>\n",
       "      <th>text</th>\n",
       "      <th>TextBlob</th>\n",
       "    </tr>\n",
       "  </thead>\n",
       "  <tbody>\n",
       "    <tr>\n",
       "      <th>0</th>\n",
       "      <td>@mkomov Максим, Вашем письмо мы получили. Наши...</td>\n",
       "      <td>(@, m, k, o, m, o, v,  , М, а, к, с, и, м, ,, ...</td>\n",
       "    </tr>\n",
       "    <tr>\n",
       "      <th>1</th>\n",
       "      <td>«Мегафон» стал владельцем 50% акций «Евросети»</td>\n",
       "      <td>(«, М, е, г, а, ф, о, н, »,  , с, т, а, л,  , ...</td>\n",
       "    </tr>\n",
       "    <tr>\n",
       "      <th>2</th>\n",
       "      <td>RT @fuckkiev: “@EvaKobb: МТС Россия прислала ж...</td>\n",
       "      <td>(R, T,  , @, f, u, c, k, k, i, e, v, :,  , “, ...</td>\n",
       "    </tr>\n",
       "    <tr>\n",
       "      <th>3</th>\n",
       "      <td>ВИДЕО: http://t.co/PSMLAhR4fI Реклама со смехо...</td>\n",
       "      <td>(В, И, Д, Е, О, :,  , h, t, t, p, :, /, /, t, ...</td>\n",
       "    </tr>\n",
       "    <tr>\n",
       "      <th>4</th>\n",
       "      <td>@parfenov1960 потому что МТС достало, а пчел н...</td>\n",
       "      <td>(@, p, a, r, f, e, n, o, v, 1, 9, 6, 0,  , п, ...</td>\n",
       "    </tr>\n",
       "  </tbody>\n",
       "</table>\n",
       "</div>"
      ],
      "text/plain": [
       "                                                text  \\\n",
       "0  @mkomov Максим, Вашем письмо мы получили. Наши...   \n",
       "1     «Мегафон» стал владельцем 50% акций «Евросети»   \n",
       "2  RT @fuckkiev: “@EvaKobb: МТС Россия прислала ж...   \n",
       "3  ВИДЕО: http://t.co/PSMLAhR4fI Реклама со смехо...   \n",
       "4  @parfenov1960 потому что МТС достало, а пчел н...   \n",
       "\n",
       "                                            TextBlob  \n",
       "0  (@, m, k, o, m, o, v,  , М, а, к, с, и, м, ,, ...  \n",
       "1  («, М, е, г, а, ф, о, н, »,  , с, т, а, л,  , ...  \n",
       "2  (R, T,  , @, f, u, c, k, k, i, e, v, :,  , “, ...  \n",
       "3  (В, И, Д, Е, О, :,  , h, t, t, p, :, /, /, t, ...  \n",
       "4  (@, p, a, r, f, e, n, o, v, 1, 9, 6, 0,  , п, ...  "
      ]
     },
     "execution_count": 58,
     "metadata": {},
     "output_type": "execute_result"
    }
   ],
   "source": [
    "ex = pd.DataFrame()\n",
    "ex['text'] = copy(train_data['text'][:5])\n",
    "t = [TextBlob(i) for i in ex['text']]\n",
    "ex['TextBlob'] = t\n",
    "ex"
   ]
  },
  {
   "cell_type": "code",
   "execution_count": 69,
   "metadata": {
    "collapsed": false
   },
   "outputs": [
    {
     "name": "stdout",
     "output_type": "stream",
     "text": [
      "[nltk_data] Downloading package brown to\n",
      "[nltk_data]     /home/sashamattini/nltk_data...\n",
      "[nltk_data]   Unzipping corpora/brown.zip.\n"
     ]
    },
    {
     "data": {
      "text/plain": [
       "True"
      ]
     },
     "execution_count": 69,
     "metadata": {},
     "output_type": "execute_result"
    }
   ],
   "source": [
    "import nltk\n",
    "nltk.download('brown')"
   ]
  },
  {
   "cell_type": "code",
   "execution_count": 64,
   "metadata": {
    "collapsed": false
   },
   "outputs": [
    {
     "name": "stdout",
     "output_type": "stream",
     "text": [
      "ru\n",
      "ru\n",
      "ru\n",
      "ru\n",
      "ru\n"
     ]
    }
   ],
   "source": [
    "for el in ex['TextBlob']:\n",
    "    print(el.detect_language())"
   ]
  },
  {
   "cell_type": "markdown",
   "metadata": {},
   "source": [
    "Определять часть"
   ]
  },
  {
   "cell_type": "code",
   "execution_count": 66,
   "metadata": {
    "collapsed": false
   },
   "outputs": [
    {
     "name": "stdout",
     "output_type": "stream",
     "text": [
      "[('@', 'JJ'), ('mkomov', 'NN'), ('Максим', 'NN'), ('Вашем', 'NNP'), ('письмо', 'NNP'), ('мы', 'NNP'), ('получили', 'NNP'), ('Наши', 'JJ'), ('сотрудники', 'NNP'), ('свяжутся', 'NNP'), ('с', 'NNP'), ('Вами', 'NNP'), ('завтра', 'NNP'), ('и', 'NNP'), ('направят', 'NNP'), ('запрос', 'NNP'), ('инженерам', 'NNP'), ('для', 'NNP'), ('проверки', 'NNP'), ('билайн', 'NN')]\n",
      "---\n",
      "[('«Мегафон»', 'JJ'), ('стал', 'NNP'), ('владельцем', 'NNP'), ('50', 'CD'), ('%', 'NN'), ('акций', 'NN'), ('«Евросети»', 'NN')]\n",
      "---\n",
      "[('RT', 'NNP'), ('@', 'NNP'), ('fuckkiev', 'NN'), ('“', 'JJ'), ('@', 'JJ'), ('EvaKobb', 'NN'), ('МТС', 'JJ'), ('Россия', 'NNP'), ('прислала', 'NNP'), ('жителям', 'NNP'), ('Херсонщины', 'NNP'), ('сообщения', 'NNP'), ('в', 'NNP'), ('которых', 'NNP'), ('обозвала', 'NNP'), ('украинцев', 'NNP'), ('фашистами', 'NNP'), ('http', 'NN'), ('//t.co/RbSesXlOUZ”', 'NN'), ('…', 'NN')]\n",
      "---\n",
      "[('ВИДЕО', 'NN'), ('http', 'NN'), ('//t.co/PSMLAhR4fI', 'JJ'), ('Реклама', 'NNP'), ('со', 'NNP'), ('смехом', 'NNP'), ('МТС', 'NNP'), ('Супер', 'NN'), ('0', 'CD')]\n",
      "---\n",
      "[('@', 'JJ'), ('parfenov1960', 'NN'), ('потому', 'NNP'), ('что', 'NNP'), ('МТС', 'NNP'), ('достало', 'NNP'), ('а', 'NNP'), ('пчел', 'NNP'), ('ненавижу', 'NNP'), ('с', 'NNP'), ('детства', 'NNP'), ('как', 'NNP'), ('и', 'NNP'), ('их', 'NNP'), ('мёд', 'NN')]\n",
      "---\n"
     ]
    }
   ],
   "source": [
    "for el in ex['TextBlob']:\n",
    "    print(el.pos_tags)\n",
    "    print('---')"
   ]
  },
  {
   "cell_type": "markdown",
   "metadata": {},
   "source": [
    "Доставать именные фразы"
   ]
  },
  {
   "cell_type": "code",
   "execution_count": 70,
   "metadata": {
    "collapsed": false
   },
   "outputs": [
    {
     "name": "stdout",
     "output_type": "stream",
     "text": [
      "['@ mkomov максим', 'вашем письмо мы получили', 'наши сотрудники свяжутся с вами завтра и направят запрос инженерам для проверки', '# билайн']\n",
      "---\n",
      "['«мегафон» стал владельцем', '% акций «евросети»']\n",
      "---\n",
      "['rt', '@ fuckkiev', '“ @', 'evakobb', 'мтс россия прислала жителям херсонщины сообщения', 'в которых обозвала украинцев фашистами', '//t.co/rbsesxlouz” …']\n",
      "---\n",
      "['//t.co/psmlahr4fi реклама со смехом мтс']\n",
      "---\n",
      "['@ parfenov1960 потому что мтс достало', 'а пчел ненавижу с детства', 'как и их мёд']\n",
      "---\n"
     ]
    }
   ],
   "source": [
    "for el in ex['TextBlob']:\n",
    "    print(el.noun_phrases)\n",
    "    print('---')"
   ]
  },
  {
   "cell_type": "code",
   "execution_count": 72,
   "metadata": {
    "collapsed": true
   },
   "outputs": [],
   "source": [
    "from textblob import Word"
   ]
  },
  {
   "cell_type": "code",
   "execution_count": 73,
   "metadata": {
    "collapsed": false
   },
   "outputs": [
    {
     "name": "stdout",
     "output_type": "stream",
     "text": [
      "['mkomov', 'Максим', 'Вашем', 'письмо', 'мы', 'получили', 'Наши', 'сотрудники', 'свяжутся', 'с', 'Вами', 'завтра', 'и', 'направят', 'запрос', 'инженерам', 'для', 'проверки', 'билайн']\n",
      "---\n",
      "['«Мегафон»', 'стал', 'владельцем', '50', 'акций', '«Евросети»']\n",
      "---\n",
      "['RT', 'fuckkiev', '“', 'EvaKobb', 'МТС', 'Россия', 'прислала', 'жителям', 'Херсонщины', 'сообщения', 'в', 'которых', 'обозвала', 'украинцев', 'фашистами', 'http', 't.co/RbSesXlOUZ”', '…']\n",
      "---\n",
      "['ВИДЕО', 'http', 't.co/PSMLAhR4fI', 'Реклама', 'со', 'смехом', 'МТС', 'Супер', '0']\n",
      "---\n",
      "['parfenov1960', 'потому', 'что', 'МТС', 'достало', 'а', 'пчел', 'ненавижу', 'с', 'детства', 'как', 'и', 'их', 'мёд']\n",
      "---\n"
     ]
    }
   ],
   "source": [
    "for el in ex['TextBlob']:\n",
    "    print(el.words)\n",
    "    print('---')"
   ]
  },
  {
   "cell_type": "code",
   "execution_count": 74,
   "metadata": {
    "collapsed": false
   },
   "outputs": [
    {
     "name": "stdout",
     "output_type": "stream",
     "text": [
      "письмо\n",
      "мыs\n",
      "---\n",
      "50\n",
      "акцийs\n",
      "---\n",
      "EvaKobb\n",
      "МТСs\n",
      "---\n",
      "Реклама\n",
      "соs\n",
      "---\n",
      "МТС\n",
      "досталоs\n",
      "---\n"
     ]
    }
   ],
   "source": [
    "for el in ex['TextBlob']:\n",
    "    print(el.words[3].singularize())\n",
    "    print(el.words[4].pluralize())\n",
    "    print('---')"
   ]
  },
  {
   "cell_type": "code",
   "execution_count": 76,
   "metadata": {
    "collapsed": false
   },
   "outputs": [
    {
     "name": "stdout",
     "output_type": "stream",
     "text": [
      "@mkomov Максим, Вашем письмо мы получили. Наши сотрудники свяжутся с Вами завтра и направят запрос инженерам для проверки. #билайн\n",
      "@mkomov Maxim, we received your letter. Our staff will contact you tomorrow and send a request to engineers for verification. # Beeline\n",
      "---\n",
      "«Мегафон» стал владельцем 50% акций «Евросети»\n",
      "MegaFon became the owner of 50% of Euroset shares\n",
      "---\n",
      "RT @fuckkiev: “@EvaKobb: МТС Россия прислала жителям Херсонщины сообщения, в которых обозвала украинцев фашистами? http://t.co/RbSesXlOUZ” …\n",
      "RT @fuckkiev: “@EvaKobb: MTS Russia sent messages to residents of Kherson region, in which she called Ukrainians fascists? http://t.co/RbSesXlOUZ ”...\n",
      "---\n",
      "ВИДЕО: http://t.co/PSMLAhR4fI Реклама со смехом МТС - Супер 0\n",
      "VIDEO: http://t.co/PSMLAhR4fI Advertising with laughter MTS - Super 0\n",
      "---\n",
      "@parfenov1960 потому что МТС достало, а пчел ненавижу с детства, как и их мёд!\n",
      "@ parfenov1960 because MTS has got enough, but I hate bees since childhood, like their honey!\n",
      "---\n"
     ]
    }
   ],
   "source": [
    "for el in ex['TextBlob']:\n",
    "    print(el)\n",
    "    print(el.translate(to='en'))\n",
    "    print('---')"
   ]
  },
  {
   "cell_type": "code",
   "execution_count": 77,
   "metadata": {
    "collapsed": false
   },
   "outputs": [
    {
     "name": "stdout",
     "output_type": "stream",
     "text": [
      "@mkomov Максим, Вашем письмо мы получили. Наши сотрудники свяжутся с Вами завтра и направят запрос инженерам для проверки. #билайн\n",
      "@mkomov Maxim，我们收到了你的来信。我们的工作人员明天将与您联系并向工程师发送请求以进行验证。 ＃直线\n",
      "---\n",
      "«Мегафон» стал владельцем 50% акций «Евросети»\n",
      "MegaFon成为Euroset 50％股份的所有者\n",
      "---\n",
      "RT @fuckkiev: “@EvaKobb: МТС Россия прислала жителям Херсонщины сообщения, в которых обозвала украинцев фашистами? http://t.co/RbSesXlOUZ” …\n",
      "RT @fuckkiev：“@EvaKobb：MTS俄罗斯向赫尔松地区的居民发送信息，她称乌克兰人为法西斯主义者？ http://t.co/RbSesXlOUZ“......\n",
      "---\n",
      "ВИДЕО: http://t.co/PSMLAhR4fI Реклама со смехом МТС - Супер 0\n",
      "视频：http：//t.co/PSMLAhR4fI广告笑声MTS  - 超级0\n",
      "---\n",
      "@parfenov1960 потому что МТС достало, а пчел ненавижу с детства, как и их мёд!\n",
      "@ parfenov1960因为MTS已经足够了，但我从小就讨厌蜜蜂，就像他们的亲爱的！\n",
      "---\n"
     ]
    }
   ],
   "source": [
    "ch = []\n",
    "for el in ex['TextBlob']:\n",
    "    print(el)\n",
    "    ch.append(el.translate(to='zh-CN'))\n",
    "    print(el.translate(to='zh-CN'))\n",
    "    print('---')\n",
    "ex['zh-CN'] = ch"
   ]
  },
  {
   "cell_type": "code",
   "execution_count": 78,
   "metadata": {
    "collapsed": false
   },
   "outputs": [
    {
     "name": "stdout",
     "output_type": "stream",
     "text": [
      "@mkomov Maxim，我们收到了你的来信。我们的工作人员明天将与您联系并向工程师发送请求以进行验证。 ＃直线\n",
      "@mkomov Максим, мы получили твое письмо. Наши сотрудники свяжутся с вами завтра и отправят запрос инженеру для проверки. # Straight\n",
      "---\n",
      "MegaFon成为Euroset 50％股份的所有者\n",
      "МегаФон становится владельцем 50% Евросети\n",
      "---\n",
      "RT @fuckkiev：“@EvaKobb：MTS俄罗斯向赫尔松地区的居民发送信息，她称乌克兰人为法西斯主义者？ http://t.co/RbSesXlOUZ“......\n",
      "RT @fuckkiev: «@EvaKobb: МТС Россия посылает информацию жителям Херсонщины. Называет ли она украинцев фашистами? Http://t.co/RbSesXlOUZ» ...\n",
      "---\n",
      "视频：http：//t.co/PSMLAhR4fI广告笑声MTS  - 超级0\n",
      "Видео: http://t.co/PSMLAhR4fI Реклама Смех МТС - Супер 0\n",
      "---\n",
      "@ parfenov1960因为MTS已经足够了，但我从小就讨厌蜜蜂，就像他们的亲爱的！\n",
      "@ parfenov1960 потому что МТС достаточно, но я ненавижу пчел с раннего возраста, как и их дорогая\n",
      "---\n"
     ]
    }
   ],
   "source": [
    "for el in ex['zh-CN']:\n",
    "    print(el)\n",
    "    print(el.translate(from_lang=\"zh-CN\", to='ru'))\n",
    "    print('---')"
   ]
  },
  {
   "cell_type": "code",
   "execution_count": 79,
   "metadata": {
    "collapsed": false
   },
   "outputs": [
    {
     "name": "stdout",
     "output_type": "stream",
     "text": [
      "@mkomov Maxim，我们收到了你的来信。我们的工作人员明天将与您联系并向工程师发送请求以进行验证。 ＃直线\n",
      "@mkomov Maxim, we have received your letter. Our staff will contact you tomorrow and send a request to the engineer for verification. #straight line\n",
      "---\n",
      "MegaFon成为Euroset 50％股份的所有者\n",
      "MegaFon becomes the owner of 50% of Euroset\n",
      "---\n",
      "RT @fuckkiev：“@EvaKobb：MTS俄罗斯向赫尔松地区的居民发送信息，她称乌克兰人为法西斯主义者？ http://t.co/RbSesXlOUZ“......\n",
      "RT @fuckkiev: \"@EvaKobb: MTS Russia sends information to residents of the Kherson region. Does she call the Ukrainians a fascist? http://t.co/RbSesXlOUZ\"...\n",
      "---\n",
      "视频：http：//t.co/PSMLAhR4fI广告笑声MTS  - 超级0\n",
      "Video: http://t.co/PSMLAhR4fI Advertising Laughter MTS - Super 0\n",
      "---\n",
      "@ parfenov1960因为MTS已经足够了，但我从小就讨厌蜜蜂，就像他们的亲爱的！\n",
      "@parfenov1960 because MTS is enough, but I hate bees from an early age, just like their dear!\n",
      "---\n"
     ]
    }
   ],
   "source": [
    "for el in ex['zh-CN']:\n",
    "    print(el)\n",
    "    print(el.translate(from_lang=\"zh-CN\", to='en'))\n",
    "    print('---')"
   ]
  },
  {
   "cell_type": "markdown",
   "metadata": {},
   "source": [
    "### Итог:\n",
    "\n",
    "Плюсы:\n",
    "- классификатор\n",
    "- анализатор натроений\n",
    "- плюрализатор\n",
    "- исправление написания\n",
    "- переводчик, который даже не плох.\n",
    "\n",
    "Минусы:\n",
    "- позиционируется как подходящая для русского, а на самом деле не совсем.\n",
    "- возможно, именно из-за этого у меня классификатор работал плохо.\n",
    "\n",
    "К сожалению, у меня не было данных для того, чтобы проверить его работу с английским. Возможно, классификатор показал бы себя лучше."
   ]
  },
  {
   "cell_type": "code",
   "execution_count": null,
   "metadata": {
    "collapsed": true
   },
   "outputs": [],
   "source": []
  },
  {
   "cell_type": "code",
   "execution_count": null,
   "metadata": {
    "collapsed": true
   },
   "outputs": [],
   "source": []
  }
 ],
 "metadata": {
  "kernelspec": {
   "display_name": "Python 3",
   "language": "python",
   "name": "python3"
  },
  "language_info": {
   "codemirror_mode": {
    "name": "ipython",
    "version": 3
   },
   "file_extension": ".py",
   "mimetype": "text/x-python",
   "name": "python",
   "nbconvert_exporter": "python",
   "pygments_lexer": "ipython3",
   "version": "3.5.5"
  }
 },
 "nbformat": 4,
 "nbformat_minor": 2
}
